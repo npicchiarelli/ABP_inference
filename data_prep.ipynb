{
 "cells": [
  {
   "cell_type": "markdown",
   "metadata": {},
   "source": [
    "# DATA PREPARATION STARTING FROM DATAFRAMES"
   ]
  },
  {
   "cell_type": "code",
   "execution_count": 1,
   "metadata": {},
   "outputs": [],
   "source": [
    "import itertools\n",
    "import pathlib\n",
    "import pickle\n",
    "\n",
    "import numpy as np\n",
    "import pandas as pd\n",
    "# import torch"
   ]
  },
  {
   "cell_type": "code",
   "execution_count": 2,
   "metadata": {},
   "outputs": [],
   "source": [
    "datestamp = \"20241024-100738\"\n",
    "sim_folder = pathlib.Path(\"/mnt/c/Users/nikko/OneDrive/Documents/Uni/magistrale/tesi/simulations\")\n",
    "datafolder = sim_folder / datestamp / \"data\""
   ]
  },
  {
   "cell_type": "code",
   "execution_count": 3,
   "metadata": {},
   "outputs": [],
   "source": [
    "path_list = []\n",
    "for i,path in enumerate(datafolder.iterdir()):\n",
    "    if path.is_dir():\n",
    "        df_path = path / f\"{datestamp}_run{i+1}.txt\"\n",
    "        path_list.append(df_path)"
   ]
  },
  {
   "cell_type": "code",
   "execution_count": 4,
   "metadata": {},
   "outputs": [],
   "source": [
    "df_list = []\n",
    "for path in path_list:\n",
    "    df_list.append(pd.read_csv(path))"
   ]
  },
  {
   "cell_type": "markdown",
   "metadata": {},
   "source": [
    "## Velocity calc."
   ]
  },
  {
   "cell_type": "markdown",
   "metadata": {},
   "source": [
    "I am dropping the first instant for velocity is obv. NaN. "
   ]
  },
  {
   "cell_type": "code",
   "execution_count": 5,
   "metadata": {},
   "outputs": [],
   "source": [
    "timestep = 1e-3\n",
    "\n",
    "for df in df_list:\n",
    "    df[[\"vx\",\"vy\"]] = df.groupby(\"N\")[[\"xpos\",\"ypos\"]].diff()/timestep #velocity calculation\n",
    "    df.dropna(inplace=True)\n",
    "    df[\"Time\"]=df[\"Time\"]-1"
   ]
  },
  {
   "cell_type": "code",
   "execution_count": 6,
   "metadata": {},
   "outputs": [
    {
     "data": {
      "text/html": [
       "<div>\n",
       "<style scoped>\n",
       "    .dataframe tbody tr th:only-of-type {\n",
       "        vertical-align: middle;\n",
       "    }\n",
       "\n",
       "    .dataframe tbody tr th {\n",
       "        vertical-align: top;\n",
       "    }\n",
       "\n",
       "    .dataframe thead th {\n",
       "        text-align: right;\n",
       "    }\n",
       "</style>\n",
       "<table border=\"1\" class=\"dataframe\">\n",
       "  <thead>\n",
       "    <tr style=\"text-align: right;\">\n",
       "      <th></th>\n",
       "      <th>N</th>\n",
       "      <th>Time</th>\n",
       "      <th>xpos</th>\n",
       "      <th>ypos</th>\n",
       "      <th>orientation</th>\n",
       "      <th>vx</th>\n",
       "      <th>vy</th>\n",
       "    </tr>\n",
       "  </thead>\n",
       "  <tbody>\n",
       "    <tr>\n",
       "      <th>10</th>\n",
       "      <td>1</td>\n",
       "      <td>1</td>\n",
       "      <td>6.617691</td>\n",
       "      <td>4.903702</td>\n",
       "      <td>1.811750</td>\n",
       "      <td>27.331837</td>\n",
       "      <td>8.540876</td>\n",
       "    </tr>\n",
       "    <tr>\n",
       "      <th>11</th>\n",
       "      <td>2</td>\n",
       "      <td>1</td>\n",
       "      <td>3.886303</td>\n",
       "      <td>-7.938370</td>\n",
       "      <td>2.820682</td>\n",
       "      <td>-29.486347</td>\n",
       "      <td>40.782271</td>\n",
       "    </tr>\n",
       "    <tr>\n",
       "      <th>12</th>\n",
       "      <td>3</td>\n",
       "      <td>1</td>\n",
       "      <td>-1.993905</td>\n",
       "      <td>4.931552</td>\n",
       "      <td>-2.826403</td>\n",
       "      <td>12.468706</td>\n",
       "      <td>-6.830419</td>\n",
       "    </tr>\n",
       "    <tr>\n",
       "      <th>13</th>\n",
       "      <td>4</td>\n",
       "      <td>1</td>\n",
       "      <td>5.320242</td>\n",
       "      <td>9.639676</td>\n",
       "      <td>-2.816269</td>\n",
       "      <td>-6.220091</td>\n",
       "      <td>-39.012934</td>\n",
       "    </tr>\n",
       "    <tr>\n",
       "      <th>14</th>\n",
       "      <td>5</td>\n",
       "      <td>1</td>\n",
       "      <td>-8.879616</td>\n",
       "      <td>3.898408</td>\n",
       "      <td>-1.289558</td>\n",
       "      <td>-8.192026</td>\n",
       "      <td>-1.517515</td>\n",
       "    </tr>\n",
       "    <tr>\n",
       "      <th>...</th>\n",
       "      <td>...</td>\n",
       "      <td>...</td>\n",
       "      <td>...</td>\n",
       "      <td>...</td>\n",
       "      <td>...</td>\n",
       "      <td>...</td>\n",
       "      <td>...</td>\n",
       "    </tr>\n",
       "    <tr>\n",
       "      <th>10005</th>\n",
       "      <td>6</td>\n",
       "      <td>1000</td>\n",
       "      <td>5.573214</td>\n",
       "      <td>1.335729</td>\n",
       "      <td>-2.122243</td>\n",
       "      <td>-23.782125</td>\n",
       "      <td>-5.584749</td>\n",
       "    </tr>\n",
       "    <tr>\n",
       "      <th>10006</th>\n",
       "      <td>7</td>\n",
       "      <td>1000</td>\n",
       "      <td>-2.850001</td>\n",
       "      <td>-1.783798</td>\n",
       "      <td>-0.295584</td>\n",
       "      <td>16.782887</td>\n",
       "      <td>3.605311</td>\n",
       "    </tr>\n",
       "    <tr>\n",
       "      <th>10007</th>\n",
       "      <td>8</td>\n",
       "      <td>1000</td>\n",
       "      <td>-6.733105</td>\n",
       "      <td>4.961772</td>\n",
       "      <td>-2.559911</td>\n",
       "      <td>7.167954</td>\n",
       "      <td>2.648109</td>\n",
       "    </tr>\n",
       "    <tr>\n",
       "      <th>10008</th>\n",
       "      <td>9</td>\n",
       "      <td>1000</td>\n",
       "      <td>-11.908104</td>\n",
       "      <td>3.320195</td>\n",
       "      <td>-1.207984</td>\n",
       "      <td>-9.910789</td>\n",
       "      <td>-30.191820</td>\n",
       "    </tr>\n",
       "    <tr>\n",
       "      <th>10009</th>\n",
       "      <td>10</td>\n",
       "      <td>1000</td>\n",
       "      <td>3.691245</td>\n",
       "      <td>-9.513998</td>\n",
       "      <td>-1.312057</td>\n",
       "      <td>-0.733240</td>\n",
       "      <td>-23.453207</td>\n",
       "    </tr>\n",
       "  </tbody>\n",
       "</table>\n",
       "<p>10000 rows × 7 columns</p>\n",
       "</div>"
      ],
      "text/plain": [
       "        N  Time       xpos      ypos  orientation         vx         vy\n",
       "10      1     1   6.617691  4.903702     1.811750  27.331837   8.540876\n",
       "11      2     1   3.886303 -7.938370     2.820682 -29.486347  40.782271\n",
       "12      3     1  -1.993905  4.931552    -2.826403  12.468706  -6.830419\n",
       "13      4     1   5.320242  9.639676    -2.816269  -6.220091 -39.012934\n",
       "14      5     1  -8.879616  3.898408    -1.289558  -8.192026  -1.517515\n",
       "...    ..   ...        ...       ...          ...        ...        ...\n",
       "10005   6  1000   5.573214  1.335729    -2.122243 -23.782125  -5.584749\n",
       "10006   7  1000  -2.850001 -1.783798    -0.295584  16.782887   3.605311\n",
       "10007   8  1000  -6.733105  4.961772    -2.559911   7.167954   2.648109\n",
       "10008   9  1000 -11.908104  3.320195    -1.207984  -9.910789 -30.191820\n",
       "10009  10  1000   3.691245 -9.513998    -1.312057  -0.733240 -23.453207\n",
       "\n",
       "[10000 rows x 7 columns]"
      ]
     },
     "execution_count": 6,
     "metadata": {},
     "output_type": "execute_result"
    }
   ],
   "source": [
    "df_list[0]"
   ]
  },
  {
   "cell_type": "code",
   "execution_count": 7,
   "metadata": {},
   "outputs": [],
   "source": [
    "num_exp = len(df_list)\n",
    "Np = df_list[0].N.max()\n",
    "num_steps = df_list[0].Time.max()"
   ]
  },
  {
   "cell_type": "markdown",
   "metadata": {},
   "source": [
    "## Position reshaping"
   ]
  },
  {
   "cell_type": "code",
   "execution_count": 8,
   "metadata": {},
   "outputs": [],
   "source": [
    "ppos = []\n",
    "for df in df_list:\n",
    "    Np = df.N.max()\n",
    "    x = np.array(df.xpos).reshape(Np,-1)\n",
    "    y = np.array(df.ypos).reshape(Np,-1)\n",
    "    xy = np.stack([x,y],axis=2)\n",
    "    ppos.append(xy)\n",
    "# position = np.concatenate(ppos,axis=1)\n",
    "position = np.stack(ppos,axis=3)\n",
    "position = np.transpose(position,(3,1,0,2))\n"
   ]
  },
  {
   "cell_type": "markdown",
   "metadata": {},
   "source": [
    "## Velocity reshaping"
   ]
  },
  {
   "cell_type": "code",
   "execution_count": 9,
   "metadata": {},
   "outputs": [],
   "source": [
    "vv = []\n",
    "for df in df_list:\n",
    "    vx = np.array(df.vx).reshape(Np,-1)\n",
    "    vy = np.array(df.vy).reshape(Np,-1)\n",
    "    vxy = np.stack([vx,vy],axis=2)\n",
    "    vv.append(vxy)\n",
    "vel = np.stack(vv,axis=3)\n",
    "vel = np.transpose(vel,(3,1,0,2))"
   ]
  },
  {
   "cell_type": "markdown",
   "metadata": {},
   "source": [
    "## Drag Coefficient"
   ]
  },
  {
   "cell_type": "code",
   "execution_count": 10,
   "metadata": {},
   "outputs": [],
   "source": [
    "R = 2.\n",
    "gamma = 6*np.pi*R*1e-3\n",
    "gamma = np.repeat(gamma, Np)\n",
    "gamma = gamma[:,np.newaxis]\n",
    "gamma = np.tile(gamma,(num_exp,num_steps,1,1))"
   ]
  },
  {
   "cell_type": "markdown",
   "metadata": {},
   "source": [
    "## Edges"
   ]
  },
  {
   "cell_type": "code",
   "execution_count": 11,
   "metadata": {},
   "outputs": [],
   "source": [
    "edges = list(itertools.combinations(range(Np), 2))\n",
    "edges = np.array(edges)"
   ]
  },
  {
   "cell_type": "code",
   "execution_count": 12,
   "metadata": {},
   "outputs": [],
   "source": [
    "data = {\n",
    "    \"position\": position,\n",
    "    \"velocity\": vel,\n",
    "    \"drag_coefficient\": gamma,\n",
    "    \"edge_list\": edges,\n",
    "}"
   ]
  },
  {
   "cell_type": "code",
   "execution_count": 14,
   "metadata": {},
   "outputs": [],
   "source": [
    "with open('data.pkl', '+rb') as f:\n",
    "    pickle.dump(data, f)"
   ]
  }
 ],
 "metadata": {
  "kernelspec": {
   "display_name": "abp_inference",
   "language": "python",
   "name": "python3"
  },
  "language_info": {
   "codemirror_mode": {
    "name": "ipython",
    "version": 3
   },
   "file_extension": ".py",
   "mimetype": "text/x-python",
   "name": "python",
   "nbconvert_exporter": "python",
   "pygments_lexer": "ipython3",
   "version": "3.12.7"
  }
 },
 "nbformat": 4,
 "nbformat_minor": 2
}
