{
 "cells": [
  {
   "cell_type": "markdown",
   "metadata": {},
   "source": [
    "# DATA PREPARATION STARTING FROM DATAFRAMES"
   ]
  },
  {
   "cell_type": "code",
   "execution_count": 1,
   "metadata": {},
   "outputs": [],
   "source": [
    "import pathlib\n",
    "import numpy as np\n",
    "import pandas as pd\n",
    "# import torch"
   ]
  },
  {
   "cell_type": "code",
   "execution_count": 2,
   "metadata": {},
   "outputs": [],
   "source": [
    "datestamp = \"20241024-100738\"\n",
    "sim_folder = pathlib.Path(\"c:/Users/nikko/OneDrive/Documents/Uni/magistrale/tesi/simulations\")\n",
    "datafolder = sim_folder / datestamp / \"data\""
   ]
  },
  {
   "cell_type": "code",
   "execution_count": 3,
   "metadata": {},
   "outputs": [],
   "source": [
    "path_list = []\n",
    "for i,path in enumerate(datafolder.iterdir()):\n",
    "    if path.is_dir():\n",
    "        df_path = path / f\"{datestamp}_run{i+1}.txt\"\n",
    "        path_list.append(df_path)"
   ]
  },
  {
   "cell_type": "code",
   "execution_count": 4,
   "metadata": {},
   "outputs": [],
   "source": [
    "df_list = []\n",
    "for path in path_list:\n",
    "    df_list.append(pd.read_csv(path))"
   ]
  },
  {
   "cell_type": "code",
   "execution_count": 5,
   "metadata": {},
   "outputs": [],
   "source": [
    "num_exp = len(df_list)\n",
    "Np = df_list[0].N.max()\n",
    "num_steps = df_list[0].Time.max()"
   ]
  },
  {
   "cell_type": "code",
   "execution_count": 6,
   "metadata": {},
   "outputs": [],
   "source": [
    "ppos = []\n",
    "for df in df_list:\n",
    "    Np = df.N.max()\n",
    "    x = np.array(df.xpos).reshape(Np,-1)\n",
    "    y = np.array(df.ypos).reshape(Np,-1)\n",
    "    xy = np.stack([x,y],axis=2)\n",
    "    ppos.append(xy)\n",
    "# position = np.concatenate(ppos,axis=1)\n",
    "position = np.stack(ppos,axis=3)\n",
    "position = np.transpose(position,(3,1,0,2))\n"
   ]
  },
  {
   "cell_type": "markdown",
   "metadata": {},
   "source": [
    "## Velocity calculation"
   ]
  },
  {
   "cell_type": "code",
   "execution_count": 7,
   "metadata": {},
   "outputs": [],
   "source": [
    "timestep = 1e-3\n",
    "\n",
    "vv = []\n",
    "for df in df_list:\n",
    "    df[[\"vx\",\"vy\"]] = df.groupby(\"N\")[[\"xpos\",\"ypos\"]].diff()/timestep #velocity calculation\n",
    "    vx = np.array(df.vx).reshape(Np,-1)\n",
    "    vy = np.array(df.vy).reshape(Np,-1)\n",
    "    vxy = np.stack([vx,vy],axis=2)\n",
    "    vv.append(vxy)\n",
    "# position = np.concatenate(ppos,axis=1)\n",
    "vel = np.stack(vv,axis=3)\n",
    "vel = np.transpose(vel,(3,1,0,2))"
   ]
  },
  {
   "cell_type": "markdown",
   "metadata": {},
   "source": [
    "## Drag Coefficient"
   ]
  },
  {
   "cell_type": "code",
   "execution_count": 8,
   "metadata": {},
   "outputs": [],
   "source": [
    "R = 2.\n",
    "gamma = 6*np.pi*R*1e-3\n",
    "gamma = np.repeat(gamma, Np)\n",
    "gamma = gamma[:,np.newaxis]\n",
    "gamma = np.tile(gamma,(num_exp,num_steps,1,1))"
   ]
  },
  {
   "cell_type": "code",
   "execution_count": 9,
   "metadata": {},
   "outputs": [
    {
     "data": {
      "text/plain": [
       "(2, 1001, 10, 1)"
      ]
     },
     "execution_count": 9,
     "metadata": {},
     "output_type": "execute_result"
    }
   ],
   "source": [
    "gamma.shape"
   ]
  },
  {
   "cell_type": "code",
   "execution_count": 10,
   "metadata": {},
   "outputs": [],
   "source": [
    "data = {\n",
    "    \"position\": position,\n",
    "    \"velocity\": vel,\n",
    "    \"drag_coefficient\": gamma\n",
    "}"
   ]
  }
 ],
 "metadata": {
  "kernelspec": {
   "display_name": "computing_methods",
   "language": "python",
   "name": "python3"
  },
  "language_info": {
   "codemirror_mode": {
    "name": "ipython",
    "version": 3
   },
   "file_extension": ".py",
   "mimetype": "text/x-python",
   "name": "python",
   "nbconvert_exporter": "python",
   "pygments_lexer": "ipython3",
   "version": "3.10.13"
  }
 },
 "nbformat": 4,
 "nbformat_minor": 2
}
