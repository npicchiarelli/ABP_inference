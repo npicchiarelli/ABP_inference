{
 "cells": [
  {
   "cell_type": "markdown",
   "metadata": {},
   "source": [
    "# DATA PREPARATION STARTING FROM DATAFRAMES"
   ]
  },
  {
   "cell_type": "code",
   "execution_count": 1,
   "metadata": {},
   "outputs": [],
   "source": [
    "import itertools\n",
    "import pathlib\n",
    "import pickle as pkl\n",
    "\n",
    "import numpy as np\n",
    "import pandas as pd\n",
    "# import torch"
   ]
  },
  {
   "cell_type": "code",
   "execution_count": 2,
   "metadata": {},
   "outputs": [],
   "source": [
    "from dataset_prep import data_prep, data_prep_nosave"
   ]
  },
  {
   "cell_type": "code",
   "execution_count": 3,
   "metadata": {},
   "outputs": [],
   "source": [
    "sim_folder = \"/mnt/c/Users/nikko/OneDrive/Documents/Uni/magistrale/tesi/simulations\"\n",
    "datestamp = \"20241108-115933\"\n",
    "\n",
    "data_prep(sim_folder, datestamp, 1e-5, 1000, 30, 2, f\"prep{datestamp}\")"
   ]
  },
  {
   "cell_type": "code",
   "execution_count": 108,
   "metadata": {},
   "outputs": [],
   "source": [
    "datestamp = \"20241108-110804\"\n",
    "sim_folder = \"/mnt/c/Users/nikko/OneDrive/Documents/Uni/magistrale/tesi/simulations\"\n",
    "\n",
    "#Directory defining\n",
    "sim_folder = pathlib.Path(sim_folder)\n",
    "datafolder = sim_folder / datestamp / \"data\""
   ]
  },
  {
   "cell_type": "code",
   "execution_count": 109,
   "metadata": {},
   "outputs": [],
   "source": [
    "path_list = []\n",
    "for path in datafolder.iterdir():\n",
    "    if path.is_dir():\n",
    "        num = path.name[3:]\n",
    "        df_path = path / f\"{datestamp}_run{num}.txt\"\n",
    "        path_list.append(df_path)"
   ]
  },
  {
   "cell_type": "code",
   "execution_count": 110,
   "metadata": {},
   "outputs": [
    {
     "data": {
      "text/plain": [
       "1"
      ]
     },
     "execution_count": 110,
     "metadata": {},
     "output_type": "execute_result"
    }
   ],
   "source": [
    "len(path_list)"
   ]
  },
  {
   "cell_type": "code",
   "execution_count": 111,
   "metadata": {},
   "outputs": [],
   "source": [
    "df_list = []\n",
    "for path in path_list:\n",
    "    df_list.append(pd.read_csv(path))"
   ]
  },
  {
   "cell_type": "code",
   "execution_count": 112,
   "metadata": {},
   "outputs": [],
   "source": [
    "timestep = 1e-5\n",
    "if len(np.unique(df_list[0].Time)) != max(df_list[0].Time):\n",
    "    timestep = timestep*(max(df_list[0].Time)-1)/(len(np.unique(df_list[0].Time))-1)"
   ]
  },
  {
   "cell_type": "code",
   "execution_count": 113,
   "metadata": {},
   "outputs": [],
   "source": [
    "timestep = 1e-5\n",
    "times = np.unique(df_list[0].Time)\n",
    "downsampling_factor = times[1] - times[0]\n",
    "timestep *= downsampling_factor*1000"
   ]
  },
  {
   "cell_type": "code",
   "execution_count": 114,
   "metadata": {},
   "outputs": [
    {
     "data": {
      "text/plain": [
       "np.float64(0.01)"
      ]
     },
     "execution_count": 114,
     "metadata": {},
     "output_type": "execute_result"
    }
   ],
   "source": [
    "timestep"
   ]
  },
  {
   "cell_type": "markdown",
   "metadata": {},
   "source": [
    "## Velocity calc."
   ]
  },
  {
   "cell_type": "markdown",
   "metadata": {},
   "source": [
    "I am dropping the first instant for velocity is obv. NaN. "
   ]
  },
  {
   "cell_type": "code",
   "execution_count": 134,
   "metadata": {},
   "outputs": [],
   "source": [
    "L = 30\n",
    "R = 2"
   ]
  },
  {
   "cell_type": "code",
   "execution_count": 140,
   "metadata": {},
   "outputs": [],
   "source": [
    "for df in df_list:\n",
    "    df.sort_values(by=[\"N\",\"Time\"],inplace=True)\n",
    "    df[[\"vx\",\"vy\"]] = df.groupby(\"N\")[[\"xpos\",\"ypos\"]].diff()/timestep #velocity calculation\n",
    "    df[[\"ax\",\"ay\"]] = df.groupby(\"N\")[[\"vx\",\"vy\"]].diff()/timestep #acceleration calculation\n",
    "    df.dropna(inplace=True)\n",
    "    df[\"Time\"]=df[\"Time\"]-(2*downsampling_factor)"
   ]
  },
  {
   "cell_type": "code",
   "execution_count": 116,
   "metadata": {},
   "outputs": [
    {
     "data": {
      "text/plain": [
       "np.float64(0.12198135036662272)"
      ]
     },
     "execution_count": 116,
     "metadata": {},
     "output_type": "execute_result"
    }
   ],
   "source": [
    "df_list[0].xpos[20] - df_list[0].xpos[30]"
   ]
  },
  {
   "cell_type": "code",
   "execution_count": 117,
   "metadata": {},
   "outputs": [
    {
     "data": {
      "text/plain": [
       "0.007807999999999815"
      ]
     },
     "execution_count": 117,
     "metadata": {},
     "output_type": "execute_result"
    }
   ],
   "source": [
    "6.610125 - 6.602317"
   ]
  },
  {
   "cell_type": "code",
   "execution_count": 118,
   "metadata": {},
   "outputs": [],
   "source": [
    "a = df_list[0][df_list[0][\"vx\"]==df_list[0][\"vx\"].max()]"
   ]
  },
  {
   "cell_type": "code",
   "execution_count": 119,
   "metadata": {},
   "outputs": [
    {
     "data": {
      "text/html": [
       "<div>\n",
       "<style scoped>\n",
       "    .dataframe tbody tr th:only-of-type {\n",
       "        vertical-align: middle;\n",
       "    }\n",
       "\n",
       "    .dataframe tbody tr th {\n",
       "        vertical-align: top;\n",
       "    }\n",
       "\n",
       "    .dataframe thead th {\n",
       "        text-align: right;\n",
       "    }\n",
       "</style>\n",
       "<table border=\"1\" class=\"dataframe\">\n",
       "  <thead>\n",
       "    <tr style=\"text-align: right;\">\n",
       "      <th></th>\n",
       "      <th>N</th>\n",
       "      <th>Time</th>\n",
       "      <th>xpos</th>\n",
       "      <th>ypos</th>\n",
       "      <th>orientation</th>\n",
       "      <th>fx</th>\n",
       "      <th>fy</th>\n",
       "      <th>torque</th>\n",
       "      <th>vx</th>\n",
       "      <th>vy</th>\n",
       "      <th>ax</th>\n",
       "      <th>ay</th>\n",
       "    </tr>\n",
       "  </thead>\n",
       "  <tbody>\n",
       "    <tr>\n",
       "      <th>6291</th>\n",
       "      <td>2</td>\n",
       "      <td>628</td>\n",
       "      <td>13.021874</td>\n",
       "      <td>3.046527</td>\n",
       "      <td>2.555829</td>\n",
       "      <td>-4.659346</td>\n",
       "      <td>-3.300597</td>\n",
       "      <td>0.0</td>\n",
       "      <td>2997.086773</td>\n",
       "      <td>-2.541743</td>\n",
       "      <td>301006.905408</td>\n",
       "      <td>-996.716646</td>\n",
       "    </tr>\n",
       "  </tbody>\n",
       "</table>\n",
       "</div>"
      ],
      "text/plain": [
       "      N  Time       xpos      ypos  orientation        fx        fy  torque  \\\n",
       "6291  2   628  13.021874  3.046527     2.555829 -4.659346 -3.300597     0.0   \n",
       "\n",
       "               vx        vy             ax          ay  \n",
       "6291  2997.086773 -2.541743  301006.905408 -996.716646  "
      ]
     },
     "execution_count": 119,
     "metadata": {},
     "output_type": "execute_result"
    }
   ],
   "source": [
    "a"
   ]
  },
  {
   "cell_type": "code",
   "execution_count": 131,
   "metadata": {},
   "outputs": [
    {
     "data": {
      "text/html": [
       "<div>\n",
       "<style scoped>\n",
       "    .dataframe tbody tr th:only-of-type {\n",
       "        vertical-align: middle;\n",
       "    }\n",
       "\n",
       "    .dataframe tbody tr th {\n",
       "        vertical-align: top;\n",
       "    }\n",
       "\n",
       "    .dataframe thead th {\n",
       "        text-align: right;\n",
       "    }\n",
       "</style>\n",
       "<table border=\"1\" class=\"dataframe\">\n",
       "  <thead>\n",
       "    <tr style=\"text-align: right;\">\n",
       "      <th></th>\n",
       "      <th>N</th>\n",
       "      <th>Time</th>\n",
       "      <th>xpos</th>\n",
       "      <th>ypos</th>\n",
       "      <th>orientation</th>\n",
       "      <th>fx</th>\n",
       "      <th>fy</th>\n",
       "      <th>torque</th>\n",
       "      <th>vx</th>\n",
       "      <th>vy</th>\n",
       "      <th>ax</th>\n",
       "      <th>ay</th>\n",
       "    </tr>\n",
       "  </thead>\n",
       "  <tbody>\n",
       "    <tr>\n",
       "      <th>6291</th>\n",
       "      <td>2</td>\n",
       "      <td>628</td>\n",
       "      <td>13.021874</td>\n",
       "      <td>3.046527</td>\n",
       "      <td>2.555829</td>\n",
       "      <td>-4.659346</td>\n",
       "      <td>-3.300597</td>\n",
       "      <td>0.0</td>\n",
       "      <td>2997.086773</td>\n",
       "      <td>-2.541743</td>\n",
       "      <td>301006.905408</td>\n",
       "      <td>-996.716646</td>\n",
       "    </tr>\n",
       "  </tbody>\n",
       "</table>\n",
       "</div>"
      ],
      "text/plain": [
       "      N  Time       xpos      ypos  orientation        fx        fy  torque  \\\n",
       "6291  2   628  13.021874  3.046527     2.555829 -4.659346 -3.300597     0.0   \n",
       "\n",
       "               vx        vy             ax          ay  \n",
       "6291  2997.086773 -2.541743  301006.905408 -996.716646  "
      ]
     },
     "execution_count": 131,
     "metadata": {},
     "output_type": "execute_result"
    }
   ],
   "source": [
    "a[a[\"vx\"]>((30-2)/timestep)]"
   ]
  },
  {
   "cell_type": "code",
   "execution_count": 132,
   "metadata": {},
   "outputs": [
    {
     "data": {
      "text/plain": [
       "6291   -2.913227\n",
       "Name: vx, dtype: float64"
      ]
     },
     "execution_count": 132,
     "metadata": {},
     "output_type": "execute_result"
    }
   ],
   "source": [
    "a[\"vx\"]-(30/timestep)"
   ]
  },
  {
   "cell_type": "code",
   "execution_count": 126,
   "metadata": {},
   "outputs": [
    {
     "data": {
      "text/plain": [
       "np.float64(9.394620094360661)"
      ]
     },
     "execution_count": 126,
     "metadata": {},
     "output_type": "execute_result"
    }
   ],
   "source": [
    "np.sqrt((df_list[0].vx)**2 + (df_list[0].vx)**2).median()"
   ]
  },
  {
   "cell_type": "code",
   "execution_count": null,
   "metadata": {},
   "outputs": [
    {
     "data": {
      "text/html": [
       "<div>\n",
       "<style scoped>\n",
       "    .dataframe tbody tr th:only-of-type {\n",
       "        vertical-align: middle;\n",
       "    }\n",
       "\n",
       "    .dataframe tbody tr th {\n",
       "        vertical-align: top;\n",
       "    }\n",
       "\n",
       "    .dataframe thead th {\n",
       "        text-align: right;\n",
       "    }\n",
       "</style>\n",
       "<table border=\"1\" class=\"dataframe\">\n",
       "  <thead>\n",
       "    <tr style=\"text-align: right;\">\n",
       "      <th></th>\n",
       "      <th>N</th>\n",
       "      <th>Time</th>\n",
       "      <th>xpos</th>\n",
       "      <th>ypos</th>\n",
       "      <th>orientation</th>\n",
       "      <th>fx</th>\n",
       "      <th>fy</th>\n",
       "      <th>torque</th>\n",
       "      <th>vx</th>\n",
       "      <th>vy</th>\n",
       "      <th>ax</th>\n",
       "      <th>ay</th>\n",
       "    </tr>\n",
       "  </thead>\n",
       "  <tbody>\n",
       "    <tr>\n",
       "      <th>23</th>\n",
       "      <td>4</td>\n",
       "      <td>1</td>\n",
       "      <td>4.899037</td>\n",
       "      <td>-8.134722</td>\n",
       "      <td>0.840030</td>\n",
       "      <td>16.757685</td>\n",
       "      <td>-29.252663</td>\n",
       "      <td>-0.0</td>\n",
       "      <td>11.462596</td>\n",
       "      <td>5.849612</td>\n",
       "      <td>671.188931</td>\n",
       "      <td>398.048078</td>\n",
       "    </tr>\n",
       "    <tr>\n",
       "      <th>33</th>\n",
       "      <td>4</td>\n",
       "      <td>2</td>\n",
       "      <td>4.937686</td>\n",
       "      <td>-8.014913</td>\n",
       "      <td>0.834345</td>\n",
       "      <td>26.564735</td>\n",
       "      <td>-48.026602</td>\n",
       "      <td>-0.0</td>\n",
       "      <td>3.864846</td>\n",
       "      <td>11.980848</td>\n",
       "      <td>-759.775021</td>\n",
       "      <td>613.123522</td>\n",
       "    </tr>\n",
       "    <tr>\n",
       "      <th>43</th>\n",
       "      <td>4</td>\n",
       "      <td>3</td>\n",
       "      <td>4.932785</td>\n",
       "      <td>-8.049020</td>\n",
       "      <td>0.819209</td>\n",
       "      <td>27.963082</td>\n",
       "      <td>-47.936425</td>\n",
       "      <td>-0.0</td>\n",
       "      <td>-0.490099</td>\n",
       "      <td>-3.410662</td>\n",
       "      <td>-435.494437</td>\n",
       "      <td>-1539.150984</td>\n",
       "    </tr>\n",
       "    <tr>\n",
       "      <th>53</th>\n",
       "      <td>4</td>\n",
       "      <td>4</td>\n",
       "      <td>5.071301</td>\n",
       "      <td>-8.051299</td>\n",
       "      <td>0.778945</td>\n",
       "      <td>27.692560</td>\n",
       "      <td>-44.126899</td>\n",
       "      <td>-0.0</td>\n",
       "      <td>13.851656</td>\n",
       "      <td>-0.227933</td>\n",
       "      <td>1434.175433</td>\n",
       "      <td>318.272928</td>\n",
       "    </tr>\n",
       "    <tr>\n",
       "      <th>63</th>\n",
       "      <td>4</td>\n",
       "      <td>5</td>\n",
       "      <td>5.172870</td>\n",
       "      <td>-8.027156</td>\n",
       "      <td>0.762031</td>\n",
       "      <td>30.525618</td>\n",
       "      <td>-45.784491</td>\n",
       "      <td>-0.0</td>\n",
       "      <td>10.156866</td>\n",
       "      <td>2.414353</td>\n",
       "      <td>-369.479000</td>\n",
       "      <td>264.228631</td>\n",
       "    </tr>\n",
       "    <tr>\n",
       "      <th>...</th>\n",
       "      <td>...</td>\n",
       "      <td>...</td>\n",
       "      <td>...</td>\n",
       "      <td>...</td>\n",
       "      <td>...</td>\n",
       "      <td>...</td>\n",
       "      <td>...</td>\n",
       "      <td>...</td>\n",
       "      <td>...</td>\n",
       "      <td>...</td>\n",
       "      <td>...</td>\n",
       "      <td>...</td>\n",
       "    </tr>\n",
       "    <tr>\n",
       "      <th>9963</th>\n",
       "      <td>4</td>\n",
       "      <td>995</td>\n",
       "      <td>4.320188</td>\n",
       "      <td>8.874673</td>\n",
       "      <td>0.591974</td>\n",
       "      <td>0.665247</td>\n",
       "      <td>-3.892762</td>\n",
       "      <td>-0.0</td>\n",
       "      <td>5.014731</td>\n",
       "      <td>13.760496</td>\n",
       "      <td>-957.741108</td>\n",
       "      <td>1206.446679</td>\n",
       "    </tr>\n",
       "    <tr>\n",
       "      <th>9973</th>\n",
       "      <td>4</td>\n",
       "      <td>996</td>\n",
       "      <td>4.386558</td>\n",
       "      <td>8.913748</td>\n",
       "      <td>0.568634</td>\n",
       "      <td>-2.286769</td>\n",
       "      <td>-9.620841</td>\n",
       "      <td>-0.0</td>\n",
       "      <td>6.636991</td>\n",
       "      <td>3.907509</td>\n",
       "      <td>162.225978</td>\n",
       "      <td>-985.298652</td>\n",
       "    </tr>\n",
       "    <tr>\n",
       "      <th>9983</th>\n",
       "      <td>4</td>\n",
       "      <td>997</td>\n",
       "      <td>4.498110</td>\n",
       "      <td>8.971097</td>\n",
       "      <td>0.558096</td>\n",
       "      <td>-12.223369</td>\n",
       "      <td>-32.355956</td>\n",
       "      <td>-0.0</td>\n",
       "      <td>11.155241</td>\n",
       "      <td>5.734939</td>\n",
       "      <td>451.825055</td>\n",
       "      <td>182.742917</td>\n",
       "    </tr>\n",
       "    <tr>\n",
       "      <th>9993</th>\n",
       "      <td>4</td>\n",
       "      <td>998</td>\n",
       "      <td>4.612857</td>\n",
       "      <td>9.032322</td>\n",
       "      <td>0.577019</td>\n",
       "      <td>-15.455810</td>\n",
       "      <td>-44.822836</td>\n",
       "      <td>-0.0</td>\n",
       "      <td>11.474686</td>\n",
       "      <td>6.122526</td>\n",
       "      <td>31.944512</td>\n",
       "      <td>38.758780</td>\n",
       "    </tr>\n",
       "    <tr>\n",
       "      <th>10003</th>\n",
       "      <td>4</td>\n",
       "      <td>999</td>\n",
       "      <td>4.732009</td>\n",
       "      <td>9.025448</td>\n",
       "      <td>0.561648</td>\n",
       "      <td>-15.491521</td>\n",
       "      <td>-54.261897</td>\n",
       "      <td>-0.0</td>\n",
       "      <td>11.915153</td>\n",
       "      <td>-0.687473</td>\n",
       "      <td>44.046611</td>\n",
       "      <td>-680.999994</td>\n",
       "    </tr>\n",
       "  </tbody>\n",
       "</table>\n",
       "<p>999 rows × 12 columns</p>\n",
       "</div>"
      ],
      "text/plain": [
       "       N  Time      xpos      ypos  orientation         fx         fy  torque  \\\n",
       "23     4     1  4.899037 -8.134722     0.840030  16.757685 -29.252663    -0.0   \n",
       "33     4     2  4.937686 -8.014913     0.834345  26.564735 -48.026602    -0.0   \n",
       "43     4     3  4.932785 -8.049020     0.819209  27.963082 -47.936425    -0.0   \n",
       "53     4     4  5.071301 -8.051299     0.778945  27.692560 -44.126899    -0.0   \n",
       "63     4     5  5.172870 -8.027156     0.762031  30.525618 -45.784491    -0.0   \n",
       "...   ..   ...       ...       ...          ...        ...        ...     ...   \n",
       "9963   4   995  4.320188  8.874673     0.591974   0.665247  -3.892762    -0.0   \n",
       "9973   4   996  4.386558  8.913748     0.568634  -2.286769  -9.620841    -0.0   \n",
       "9983   4   997  4.498110  8.971097     0.558096 -12.223369 -32.355956    -0.0   \n",
       "9993   4   998  4.612857  9.032322     0.577019 -15.455810 -44.822836    -0.0   \n",
       "10003  4   999  4.732009  9.025448     0.561648 -15.491521 -54.261897    -0.0   \n",
       "\n",
       "              vx         vy           ax           ay  \n",
       "23     11.462596   5.849612   671.188931   398.048078  \n",
       "33      3.864846  11.980848  -759.775021   613.123522  \n",
       "43     -0.490099  -3.410662  -435.494437 -1539.150984  \n",
       "53     13.851656  -0.227933  1434.175433   318.272928  \n",
       "63     10.156866   2.414353  -369.479000   264.228631  \n",
       "...          ...        ...          ...          ...  \n",
       "9963    5.014731  13.760496  -957.741108  1206.446679  \n",
       "9973    6.636991   3.907509   162.225978  -985.298652  \n",
       "9983   11.155241   5.734939   451.825055   182.742917  \n",
       "9993   11.474686   6.122526    31.944512    38.758780  \n",
       "10003  11.915153  -0.687473    44.046611  -680.999994  \n",
       "\n",
       "[999 rows x 12 columns]"
      ]
     },
     "execution_count": 121,
     "metadata": {},
     "output_type": "execute_result"
    }
   ],
   "source": [
    "df_list[0][df_list[0][\"N\"]==4]"
   ]
  },
  {
   "cell_type": "code",
   "execution_count": 16,
   "metadata": {},
   "outputs": [],
   "source": [
    "num_exp = len(df_list)\n",
    "Np = df_list[0].N.max()\n",
    "num_steps = len(np.unique(df_list[0].Time))"
   ]
  },
  {
   "cell_type": "markdown",
   "metadata": {},
   "source": [
    "## Position reshaping"
   ]
  },
  {
   "cell_type": "code",
   "execution_count": 9,
   "metadata": {},
   "outputs": [],
   "source": [
    "ppos = []\n",
    "for df in df_list:\n",
    "    Np = df.N.max()\n",
    "    x = np.array(df.xpos).reshape(Np,-1)\n",
    "    y = np.array(df.ypos).reshape(Np,-1)\n",
    "    xy = np.stack([x,y],axis=2)\n",
    "    ppos.append(xy)\n",
    "# position = np.concatenate(ppos,axis=1)\n",
    "position = np.stack(ppos,axis=3)\n",
    "position = np.transpose(position,(3,1,0,2))\n"
   ]
  },
  {
   "cell_type": "markdown",
   "metadata": {},
   "source": [
    "## Velocity reshaping"
   ]
  },
  {
   "cell_type": "code",
   "execution_count": 10,
   "metadata": {},
   "outputs": [],
   "source": [
    "vv = []\n",
    "for df in df_list:\n",
    "    vx = np.array(df.vx).reshape(Np,-1)\n",
    "    vy = np.array(df.vy).reshape(Np,-1)\n",
    "    vxy = np.stack([vx,vy],axis=2)\n",
    "    vv.append(vxy)\n",
    "vel = np.stack(vv,axis=3)\n",
    "vel = np.transpose(vel,(3,1,0,2))"
   ]
  },
  {
   "cell_type": "markdown",
   "metadata": {},
   "source": [
    "## Force"
   ]
  },
  {
   "cell_type": "code",
   "execution_count": 11,
   "metadata": {},
   "outputs": [],
   "source": [
    "force_ = []\n",
    "for df in df_list:\n",
    "    Np = df.N.max()\n",
    "    fx = np.array(df.fx).reshape(Np,-1)\n",
    "    fy = np.array(df.fy).reshape(Np,-1)\n",
    "    fxy = np.stack([fx,fy],axis=2)\n",
    "    force_.append(fxy)\n",
    "# position = np.concatenate(ppos,axis=1)\n",
    "force = np.stack(force_,axis=3)\n",
    "force = np.transpose(force,(3,1,0,2))"
   ]
  },
  {
   "cell_type": "markdown",
   "metadata": {},
   "source": [
    "## Orientation"
   ]
  },
  {
   "cell_type": "code",
   "execution_count": 65,
   "metadata": {},
   "outputs": [],
   "source": [
    "angle_ = []\n",
    "for df in df_list:\n",
    "    Np = df.N.max()\n",
    "    theta = np.array(df.orientation).reshape(Np,-1)\n",
    "    angle_.append(theta)\n",
    "angle = np.stack(angle_, axis=2)[:,np.newaxis]\n",
    "angle = np.transpose(angle,(3,2,0,1))"
   ]
  },
  {
   "cell_type": "markdown",
   "metadata": {},
   "source": [
    "## Drag Coefficient"
   ]
  },
  {
   "cell_type": "code",
   "execution_count": 18,
   "metadata": {},
   "outputs": [],
   "source": [
    "R = 2.\n",
    "gamma = 6*np.pi*R*1e-3\n",
    "gamma = np.repeat(gamma, Np)\n",
    "gamma = gamma[:,np.newaxis]\n",
    "gamma = np.tile(gamma,(num_exp,num_steps,1,1))"
   ]
  },
  {
   "cell_type": "markdown",
   "metadata": {},
   "source": [
    "## Edges"
   ]
  },
  {
   "cell_type": "code",
   "execution_count": 25,
   "metadata": {},
   "outputs": [],
   "source": [
    "edges = list(itertools.combinations(range(Np), 2))\n",
    "edges = np.array(edges)"
   ]
  },
  {
   "cell_type": "code",
   "execution_count": 26,
   "metadata": {},
   "outputs": [],
   "source": [
    "data = {\n",
    "    \"position\": position,\n",
    "    \"velocity\": vel,\n",
    "    \"drag_coefficient\": gamma,\n",
    "    \"edge_list\": edges,\n",
    "}"
   ]
  },
  {
   "cell_type": "code",
   "execution_count": 27,
   "metadata": {},
   "outputs": [],
   "source": [
    "with open('data.pkl', '+rb') as f:\n",
    "    pkl.dump(data, f)"
   ]
  }
 ],
 "metadata": {
  "kernelspec": {
   "display_name": "abp_inference",
   "language": "python",
   "name": "python3"
  },
  "language_info": {
   "codemirror_mode": {
    "name": "ipython",
    "version": 3
   },
   "file_extension": ".py",
   "mimetype": "text/x-python",
   "name": "python",
   "nbconvert_exporter": "python",
   "pygments_lexer": "ipython3",
   "version": "3.12.7"
  }
 },
 "nbformat": 4,
 "nbformat_minor": 2
}
