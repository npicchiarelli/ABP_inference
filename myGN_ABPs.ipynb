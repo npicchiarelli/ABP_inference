{
 "cells": [
  {
   "cell_type": "code",
   "execution_count": 27,
   "metadata": {
    "colab": {
     "base_uri": "https://localhost:8080/",
     "height": 1000
    },
    "executionInfo": {
     "elapsed": 49045,
     "status": "error",
     "timestamp": 1615475488340,
     "user": {
      "displayName": "C. MIGUEL BARRIUSO GUTIERREZ",
      "photoUrl": "",
      "userId": "09446091346100152639"
     },
     "user_tz": -60
    },
    "id": "zwd5xOs3p_hR",
    "outputId": "45285c25-3a52-47b5-cc2e-b3a67dc109e6"
   },
   "outputs": [],
   "source": [
    "#Basic pre-reqs:\n",
    "import numpy as np\n",
    "import torch\n",
    "import time\n",
    "from torch.autograd import Variable\n",
    "from matplotlib import pyplot as plt\n",
    "from matplotlib.animation import FuncAnimation\n",
    "%matplotlib inline\n",
    "\n",
    "#!pip install celluloid\n",
    "\n",
    "#!export CUDA=cu101 && pip install --upgrade torch-scatter==latest+${CUDA} torch-sparse==latest+${CUDA} -f https://pytorch-geometric.com/whl/torch-1.7.0.html\n",
    "#!pip install --upgrade torch-geometric\n",
    "\n",
    "# Mount your google drive in google colab\n",
    "#from google.colab import drive\n",
    "#drive.mount('/content/drive')\n",
    "\n",
    "#%cd '/content/drive/MyDrive/ColabNotebooks/MLAM/GN_ABPs'\n",
    "\n",
    "import models\n",
    "import simulate\n",
    "\n",
    "device = 'cuda' if torch.cuda.is_available() else 'cpu'"
   ]
  },
  {
   "cell_type": "code",
   "execution_count": null,
   "metadata": {
    "id": "rLsX3VkYuRf5"
   },
   "outputs": [],
   "source": [
    "from sklearn.model_selection import train_test_split\n",
    "\n",
    "import networkx as nx\n",
    "import torch\n",
    "from torch import nn\n",
    "from torch.functional import F\n",
    "from torch.optim import Adam\n",
    "from torch_geometric.nn import MetaLayer, MessagePassing\n",
    "from torch_geometric.utils import to_networkx\n",
    "\n",
    "from models import OGN, varOGN, make_packer, make_unpacker, get_edge_index\n",
    "\n",
    "from torch_geometric.data import Data, DataLoader\n",
    "from models import get_edge_index\n",
    "\n",
    "from torch.optim.lr_scheduler import ReduceLROnPlateau, OneCycleLR\n",
    "\n",
    "from tqdm import tqdm\n",
    "\n",
    "import numpy as onp\n",
    "onp.random.seed(0)\n",
    "\n",
    "import pandas as pd\n",
    "\n",
    "\n",
    "# Loss function: This holds definition of our L1 and KL regularizations:\n",
    "\n",
    "def new_loss(self, g, augment=True, square=False):\n",
    "  if square:\n",
    "      return torch.sum((g.y - self.just_derivative(g, augment=augment))**2)\n",
    "  else:\n",
    "      base_loss = torch.sum(torch.abs(g.y - self.just_derivative(g, augment=augment)))\n",
    "      if test in ['_l1_', '_kl_']:\n",
    "          s1 = g.x[self.edge_index[0]]\n",
    "          s2 = g.x[self.edge_index[1]]\n",
    "          if test == '_l1_':\n",
    "              m12 = self.message(s1, s2)\n",
    "              regularization = 1e-2\n",
    "              #Want one loss value per row of g.y:\n",
    "              normalized_l05 = torch.sum(torch.abs(m12))\n",
    "              return base_loss, regularization * batch * normalized_l05 / n**2 * n\n",
    "          elif test == '_kl_':\n",
    "              regularization = 1\n",
    "              #Want one loss value per row of g.y:\n",
    "              tmp = torch.cat([s1, s2], dim=1)  # tmp has shape [E, 2 * in_channels]\n",
    "              raw_msg = self.msg_fnc(tmp)\n",
    "              mu = raw_msg[:, 0::2]\n",
    "              logvar = raw_msg[:, 1::2]\n",
    "              full_kl = torch.sum(torch.exp(logvar) + mu**2 - logvar)/2.0\n",
    "              return base_loss, regularization * batch * full_kl / n**2 * n\n",
    "      return base_loss\n",
    "\n",
    "\n",
    "# Function to record messages from model\n",
    "\n",
    "def get_messages(ogn):\n",
    "\n",
    "    def get_message_info(tmp):\n",
    "        ogn.cpu()\n",
    "\n",
    "        s1 = tmp.x[tmp.edge_index[0]]\n",
    "        s2 = tmp.x[tmp.edge_index[1]]\n",
    "        tmp = torch.cat([s1, s2], dim=1)  # tmp has shape [E, 2 * in_channels]\n",
    "        if test == '_kl_':\n",
    "            raw_msg = ogn.msg_fnc(tmp)\n",
    "            mu = raw_msg[:, 0::2]\n",
    "            logvar = raw_msg[:, 1::2]\n",
    "\n",
    "            m12 = mu\n",
    "        else:\n",
    "            m12 = ogn.msg_fnc(tmp)\n",
    "\n",
    "        all_messages = torch.cat((\n",
    "            s1,\n",
    "            s2,\n",
    "            m12), dim=1)\n",
    "        if dim == 2:\n",
    "            columns = [elem%(k) for k in range(1, 3) for elem in 'x%d y%d vx%d vy%d q%d m%d'.split(' ')]\n",
    "            columns += ['e%d'%(k,) for k in range(msg_dim)]\n",
    "        elif dim == 3:\n",
    "            columns = [elem%(k) for k in range(1, 3) for elem in 'x%d y%d z%d vx%d vy%d vz%d q%d m%d'.split(' ')]\n",
    "            columns += ['e%d'%(k,) for k in range(msg_dim)]\n",
    "\n",
    "\n",
    "        return pd.DataFrame(\n",
    "            data=all_messages.cpu().detach().numpy(),\n",
    "            columns=columns\n",
    "        )\n",
    "\n",
    "    msg_info = []\n",
    "    for i, g in enumerate(newtestloader):\n",
    "        msg_info.append(get_message_info(g))\n",
    "\n",
    "    msg_info = pd.concat(msg_info)\n",
    "    msg_info['dx'] = msg_info.x1 - msg_info.x2\n",
    "    msg_info['dy'] = msg_info.y1 - msg_info.y2\n",
    "    if dim == 2:\n",
    "        msg_info['r'] = np.sqrt(\n",
    "            (msg_info.dx)**2 + (msg_info.dy)**2\n",
    "        )\n",
    "    elif dim == 3:\n",
    "        msg_info['dz'] = msg_info.z1 - msg_info.z2\n",
    "        msg_info['r'] = np.sqrt(\n",
    "            (msg_info.dx)**2 + (msg_info.dy)**2 + (msg_info.dz)**2\n",
    "        )\n",
    "    \n",
    "    return msg_info\n",
    "\n",
    "\n",
    "# Function to visualize network\n",
    "\n",
    "def visualize(h, color, epoch=None, loss=None):\n",
    "    plt.figure(figsize=(7,7))\n",
    "    plt.xticks([])\n",
    "    plt.yticks([])\n",
    "\n",
    "    if torch.is_tensor(h):\n",
    "        h = h.detach().cpu().numpy()\n",
    "        plt.scatter(h[:, 0], h[:, 1], s=140, c=color, cmap=\"Set2\")\n",
    "        print(\"isTensor\")\n",
    "        if epoch is not None and loss is not None:\n",
    "            plt.xlabel(f'Epoch: {epoch}, Loss: {loss.item():.4f}', fontsize=16)\n",
    "    else:\n",
    "        print(\"isNotTensor\")\n",
    "        nx.draw_networkx(G, pos=nx.spring_layout(G, seed=42), with_labels=False,\n",
    "                         node_color=color, cmap=\"Set2\")\n",
    "    plt.show()\n"
   ]
  },
  {
   "cell_type": "code",
   "execution_count": 12,
   "metadata": {
    "colab": {
     "base_uri": "https://localhost:8080/"
    },
    "executionInfo": {
     "elapsed": 39628,
     "status": "ok",
     "timestamp": 1614599882132,
     "user": {
      "displayName": "C. MIGUEL BARRIUSO GUTIERREZ",
      "photoUrl": "",
      "userId": "09446091346100152639"
     },
     "user_tz": -60
    },
    "id": "HJ_FX7oq3mlL",
    "outputId": "75c61211-22ac-4ea7-e411-ad015e943a7d"
   },
   "outputs": [
    {
     "name": "stderr",
     "output_type": "stream",
     "text": [
      "An NVIDIA GPU may be present on this machine, but a CUDA-enabled jaxlib is not installed. Falling back to cpu.\n"
     ]
    },
    {
     "name": "stdout",
     "output_type": "stream",
     "text": [
      "Running on r2_n=7_dim=2_nt=40_dt=0.01\n"
     ]
    }
   ],
   "source": [
    "import importlib\n",
    "importlib.reload(simulate)\n",
    "\n",
    "# Number of simulations to run (it's fast, don't worry):\n",
    "ns = 8\n",
    "\n",
    "# Potential (see below for options)\n",
    "sim = 'r2'\n",
    "\n",
    "# Number of nodes\n",
    "n = 7\n",
    "\n",
    "# Dimension\n",
    "dim = 2\n",
    "\n",
    "# Number of time steps\n",
    "nt = 40\n",
    "\n",
    "# Time step\n",
    "\n",
    "dt = 0.01\n",
    "\n",
    "#Standard simulation sets:\n",
    "n_set = [4, 8]\n",
    "sim_sets = [\n",
    "{'sim': 'r1', 'dt': [5e-3], 'nt': [1000], 'n': n_set, 'dim': [2, 3]},\n",
    "{'sim': 'r2', 'dt': [1e-3], 'nt': [1000], 'n': n_set, 'dim': [2, 3]},\n",
    "{'sim': 'spring', 'dt': [1e-2], 'nt': [1000], 'n': n_set, 'dim': [2, 3]},\n",
    "{'sim': 'string', 'dt': [1e-2], 'nt': [1000], 'n': [30], 'dim': [2]},\n",
    "{'sim': 'charge', 'dt': [1e-3], 'nt': [1000], 'n': n_set, 'dim': [2, 3]},\n",
    "{'sim': 'superposition', 'dt': [1e-3], 'nt': [1000], 'n': n_set, 'dim': [2, 3]},\n",
    "{'sim': 'damped', 'dt': [2e-2], 'nt': [1000], 'n': n_set, 'dim': [2, 3]},\n",
    "{'sim': 'discontinuous', 'dt': [1e-2], 'nt': [1000], 'n': n_set, 'dim': [2, 3]},\n",
    "]\n",
    "\n",
    "\n",
    "#Select the hand-tuned dt value for a smooth simulation\n",
    "# (since scales are different in each potential):\n",
    "# dt = [ss['dt'][0] for ss in sim_sets if ss['sim'] == sim][0]\n",
    "\n",
    "title = '{}_n={}_dim={}_nt={}_dt={}'.format(sim, n, dim, nt, dt)\n",
    "print('Running on', title)\n",
    "\n",
    "\n",
    "# ??? Why nt//2\n",
    "from simulate import SimulationDataset\n",
    "s = SimulationDataset(sim, n=n, dim=dim, nt=nt//2, dt=dt) \n",
    "\n",
    "# Update this to your own dataset, or regenerate:\n",
    "base_str = './'\n",
    "data_str = title\n",
    "s.simulate(ns)\n",
    "\n",
    "# data has [simulation ID, time, particle ID, [posx, posy, velx, vely, charge, mass]]\n",
    "data = s.data\n",
    "accel_data = s.get_acceleration()\n"
   ]
  },
  {
   "cell_type": "code",
   "execution_count": 13,
   "metadata": {
    "colab": {
     "base_uri": "https://localhost:8080/"
    },
    "executionInfo": {
     "elapsed": 492,
     "status": "ok",
     "timestamp": 1614599885891,
     "user": {
      "displayName": "C. MIGUEL BARRIUSO GUTIERREZ",
      "photoUrl": "",
      "userId": "09446091346100152639"
     },
     "user_tz": -60
    },
    "id": "RbLg44j1SrCh",
    "outputId": "a6a8bd76-4537-46be-c364-fa7724a17d62"
   },
   "outputs": [
    {
     "name": "stdout",
     "output_type": "stream",
     "text": [
      "[[ 1.3591251   0.329612    0.9690037   1.0875564   0.          1.        ]\n",
      " [ 2.1158817  -1.1862841  -1.3317723   0.51109535  0.          1.        ]\n",
      " [ 1.174981   -0.27038378 -0.17853492  1.7897437   0.          1.        ]\n",
      " [-0.48743394  0.18600783 -0.32848445 -0.8874241   0.          1.        ]\n",
      " [-0.14073446 -0.56184286  0.90058583 -0.28297317  0.          1.        ]\n",
      " [-0.9355613   0.81522226  0.2329133  -2.390712    0.          1.        ]\n",
      " [-0.43262395 -0.15298584 -1.1773343   0.6433235   0.          1.        ]]\n"
     ]
    },
    {
     "data": {
      "text/plain": [
       "(8, 20, 7, 6)"
      ]
     },
     "execution_count": 13,
     "metadata": {},
     "output_type": "execute_result"
    }
   ],
   "source": [
    "print(s.data[0,0,...])\n",
    "data.shape"
   ]
  },
  {
   "cell_type": "code",
   "execution_count": 14,
   "metadata": {},
   "outputs": [],
   "source": [
    "X = torch.from_numpy(np.concatenate([data[:,i] for i in range(0, data.shape[1], 5)]))\n",
    "y = torch.from_numpy(np.concatenate([accel_data[:, i] for i in range(0, data.shape[1], 5)]))"
   ]
  },
  {
   "cell_type": "code",
   "execution_count": 15,
   "metadata": {},
   "outputs": [
    {
     "data": {
      "text/plain": [
       "(8, 7, 6)"
      ]
     },
     "execution_count": 15,
     "metadata": {},
     "output_type": "execute_result"
    }
   ],
   "source": [
    "data[:,0].shape"
   ]
  },
  {
   "cell_type": "code",
   "execution_count": 16,
   "metadata": {},
   "outputs": [
    {
     "name": "stdout",
     "output_type": "stream",
     "text": [
      "20\n"
     ]
    },
    {
     "data": {
      "text/plain": [
       "array([ 0,  5, 10, 15])"
      ]
     },
     "execution_count": 16,
     "metadata": {},
     "output_type": "execute_result"
    }
   ],
   "source": [
    "print(data.shape[1])\n",
    "onp.arange(0, data.shape[1], 5)"
   ]
  },
  {
   "cell_type": "code",
   "execution_count": 17,
   "metadata": {},
   "outputs": [
    {
     "name": "stdout",
     "output_type": "stream",
     "text": [
      "torch.Size([32, 7, 6])\n",
      "torch.Size([32, 7, 2])\n"
     ]
    }
   ],
   "source": [
    "print(X.shape)\n",
    "print(y.shape)"
   ]
  },
  {
   "cell_type": "code",
   "execution_count": 18,
   "metadata": {},
   "outputs": [],
   "source": [
    "# Here we divide train and test data, by default it selects 25% of the data as\n",
    "# test data. It seems that this is the last 25% of the systems time evolution.\n",
    "X_train, X_test, y_train, y_test = train_test_split(X, y, shuffle=False)"
   ]
  },
  {
   "cell_type": "code",
   "execution_count": 19,
   "metadata": {},
   "outputs": [
    {
     "name": "stdout",
     "output_type": "stream",
     "text": [
      "torch.Size([24, 7, 6])\n",
      "torch.Size([8, 7, 6])\n",
      "torch.Size([24, 7, 2])\n",
      "torch.Size([8, 7, 2])\n"
     ]
    }
   ],
   "source": [
    "print(X_train.shape)\n",
    "print(X_test.shape)\n",
    "print(y_train.shape)\n",
    "print(y_test.shape)"
   ]
  },
  {
   "cell_type": "code",
   "execution_count": null,
   "metadata": {
    "id": "ml6ZDUckE_k5"
   },
   "outputs": [
    {
     "name": "stderr",
     "output_type": "stream",
     "text": [
      "/home/npic/abp_inference/abp_inference/lib/python3.12/site-packages/torch_geometric/deprecation.py:26: UserWarning: 'data.DataLoader' is deprecated, use 'loader.DataLoader' instead\n",
      "  warnings.warn(out)\n"
     ]
    }
   ],
   "source": [
    "\n",
    "# L1 regularization\n",
    "\n",
    "aggr = 'add'\n",
    "hidden = 300\n",
    "\n",
    "test = '_l1_'\n",
    "\n",
    "\n",
    "#This test applies an explicit bottleneck:\n",
    "\n",
    "msg_dim = 100\n",
    "n_f = data.shape[3]\n",
    "\n",
    "\n",
    "# Custom data loader\n",
    "# HERE WE GENERATE THE CONECTIVITY TENSOR\n",
    "\n",
    "edge_index = get_edge_index(n, sim)\n",
    "\n",
    "\n",
    "# Initiate the model\n",
    "\n",
    "#######\n",
    "# GPU #\n",
    "#######\n",
    "\n",
    "# if test == '_kl_':\n",
    "#     ogn = varOGN(n_f, msg_dim, dim, dt=0.1, hidden=hidden, edge_index=get_edge_index(n, sim), aggr=aggr).to(device)\n",
    "# else:\n",
    "#     ogn = OGN(n_f, msg_dim, dim, dt=0.1, hidden=hidden, edge_index=get_edge_index(n, sim), aggr=aggr).to(device)\n",
    "\n",
    "# messages_over_time = []\n",
    "# ogn = ogn.to(device)\n",
    "\n",
    "# Test the model\n",
    "# _q = Data(\n",
    "#     x=X_train[0].to(device),\n",
    "#     edge_index=edge_index.to(device),\n",
    "#     y=y_train[0].to(device))\n",
    "# ogn(_q.x, _q.edge_index), ogn.just_derivative(_q).shape, _q.y.shape, ogn.loss(_q), \n",
    "\n",
    "#######\n",
    "# CPU #\n",
    "#######\n",
    "\n",
    "if test == '_kl_':\n",
    "    ogn = varOGN(n_f, msg_dim, dim, dt=0.1, hidden=hidden, edge_index=get_edge_index(n, sim), aggr=aggr).cpu()\n",
    "else:\n",
    "    ogn = OGN(n_f, msg_dim, dim, dt=0.1, hidden=hidden, edge_index=get_edge_index(n, sim), aggr=aggr).cpu()\n",
    "\n",
    "messages_over_time = []\n",
    "ogn = ogn.cpu()\n",
    "\n",
    "\n",
    "\n",
    "\n",
    "\n",
    "# Test the model\n",
    "_q = Data(\n",
    "    x=X_train[0].cpu(),\n",
    "    edge_index=edge_index.cpu(),\n",
    "    y=y_train[0].cpu())\n",
    "ogn(_q.x, _q.edge_index), ogn.just_derivative(_q).shape, _q.y.shape, ogn.loss(_q), \n",
    "\n",
    "\n",
    "\n",
    "\n",
    "\n",
    "\n",
    "## Set up training\n",
    "\n",
    "# Organize into data loader:\n",
    "# n: number of nodes (particles).\n",
    "\n",
    "batch = int(64 * (4 / n)**2)\n",
    "trainloader = DataLoader(\n",
    "    [Data(\n",
    "        Variable(X_train[i]),\n",
    "        edge_index=edge_index,\n",
    "        y=Variable(y_train[i])) for i in range(len(y_train))],\n",
    "    batch_size=batch,\n",
    "    shuffle=True\n",
    ")\n",
    "\n",
    "testloader = DataLoader(\n",
    "    [Data(\n",
    "        X_test[i],\n",
    "        edge_index=edge_index,\n",
    "        y=y_test[i]) for i in range(len(y_test))],\n",
    "    batch_size=1024,\n",
    "    shuffle=True\n",
    ")"
   ]
  },
  {
   "cell_type": "code",
   "execution_count": 21,
   "metadata": {},
   "outputs": [
    {
     "data": {
      "text/plain": [
       "20.897959183673468"
      ]
     },
     "execution_count": 21,
     "metadata": {},
     "output_type": "execute_result"
    }
   ],
   "source": [
    "(64*(4/7)**2)"
   ]
  },
  {
   "cell_type": "code",
   "execution_count": 22,
   "metadata": {
    "colab": {
     "base_uri": "https://localhost:8080/"
    },
    "executionInfo": {
     "elapsed": 623,
     "status": "ok",
     "timestamp": 1614599914557,
     "user": {
      "displayName": "C. MIGUEL BARRIUSO GUTIERREZ",
      "photoUrl": "",
      "userId": "09446091346100152639"
     },
     "user_tz": -60
    },
    "id": "n1sOPFwqF6mV",
    "outputId": "6a277dc3-1b16-4b36-83d8-39d759ca7b77"
   },
   "outputs": [
    {
     "name": "stdout",
     "output_type": "stream",
     "text": [
      "24\n",
      "8\n"
     ]
    }
   ],
   "source": [
    "print(len(trainloader.dataset))\n",
    "print(len(testloader.dataset))"
   ]
  },
  {
   "cell_type": "code",
   "execution_count": 23,
   "metadata": {},
   "outputs": [
    {
     "name": "stdout",
     "output_type": "stream",
     "text": [
      "Data(x=[7, 6], edge_index=[2, 42], y=[7, 2])\n",
      "Data(x=[7, 6], edge_index=[2, 42], y=[7, 2])\n"
     ]
    }
   ],
   "source": [
    "print(trainloader.dataset[0])\n",
    "print(testloader.dataset[0])"
   ]
  },
  {
   "cell_type": "code",
   "execution_count": 24,
   "metadata": {},
   "outputs": [
    {
     "data": {
      "text/plain": [
       "[Data(x=[7, 6], edge_index=[2, 42], y=[7, 2]),\n",
       " Data(x=[7, 6], edge_index=[2, 42], y=[7, 2]),\n",
       " Data(x=[7, 6], edge_index=[2, 42], y=[7, 2]),\n",
       " Data(x=[7, 6], edge_index=[2, 42], y=[7, 2]),\n",
       " Data(x=[7, 6], edge_index=[2, 42], y=[7, 2]),\n",
       " Data(x=[7, 6], edge_index=[2, 42], y=[7, 2]),\n",
       " Data(x=[7, 6], edge_index=[2, 42], y=[7, 2]),\n",
       " Data(x=[7, 6], edge_index=[2, 42], y=[7, 2]),\n",
       " Data(x=[7, 6], edge_index=[2, 42], y=[7, 2]),\n",
       " Data(x=[7, 6], edge_index=[2, 42], y=[7, 2]),\n",
       " Data(x=[7, 6], edge_index=[2, 42], y=[7, 2]),\n",
       " Data(x=[7, 6], edge_index=[2, 42], y=[7, 2]),\n",
       " Data(x=[7, 6], edge_index=[2, 42], y=[7, 2]),\n",
       " Data(x=[7, 6], edge_index=[2, 42], y=[7, 2]),\n",
       " Data(x=[7, 6], edge_index=[2, 42], y=[7, 2]),\n",
       " Data(x=[7, 6], edge_index=[2, 42], y=[7, 2]),\n",
       " Data(x=[7, 6], edge_index=[2, 42], y=[7, 2]),\n",
       " Data(x=[7, 6], edge_index=[2, 42], y=[7, 2]),\n",
       " Data(x=[7, 6], edge_index=[2, 42], y=[7, 2]),\n",
       " Data(x=[7, 6], edge_index=[2, 42], y=[7, 2]),\n",
       " Data(x=[7, 6], edge_index=[2, 42], y=[7, 2]),\n",
       " Data(x=[7, 6], edge_index=[2, 42], y=[7, 2]),\n",
       " Data(x=[7, 6], edge_index=[2, 42], y=[7, 2]),\n",
       " Data(x=[7, 6], edge_index=[2, 42], y=[7, 2])]"
      ]
     },
     "execution_count": 24,
     "metadata": {},
     "output_type": "execute_result"
    }
   ],
   "source": [
    "trainloader.dataset"
   ]
  },
  {
   "cell_type": "code",
   "execution_count": 25,
   "metadata": {
    "colab": {
     "base_uri": "https://localhost:8080/",
     "height": 248
    },
    "executionInfo": {
     "elapsed": 1840,
     "status": "ok",
     "timestamp": 1614601621573,
     "user": {
      "displayName": "C. MIGUEL BARRIUSO GUTIERREZ",
      "photoUrl": "",
      "userId": "09446091346100152639"
     },
     "user_tz": -60
    },
    "id": "QOuVEPZat3PO",
    "outputId": "fef8e4b9-de76-4660-a639-553d1b6bfdb2"
   },
   "outputs": [
    {
     "data": {
      "text/plain": [
       "{0: array([-0.52480656,  1.1856287 ], dtype=float32),\n",
       " 1: array([ 0.9443292, -1.0465018], dtype=float32),\n",
       " 2: array([1.279415 , 0.2963645], dtype=float32),\n",
       " 3: array([ 0.23018403, -1.020589  ], dtype=float32),\n",
       " 4: array([1.5135585, 1.1048621], dtype=float32),\n",
       " 5: array([ 0.5725636 , -0.60636204], dtype=float32),\n",
       " 6: array([-0.95111096, -0.23268104], dtype=float32)}"
      ]
     },
     "execution_count": 25,
     "metadata": {},
     "output_type": "execute_result"
    },
    {
     "data": {
      "image/png": "[encoded data removed]",
      "text/plain": [
       "<Figure size 640x480 with 1 Axes>"
      ]
     },
     "metadata": {},
     "output_type": "display_data"
    }
   ],
   "source": [
    "pos0 = [{i : trainloader.dataset[j].x[i,0:2].numpy() \n",
    "        for i in range(0,n)} for j in range(0, len(trainloader.dataset))]\n",
    "\n",
    "G = to_networkx(trainloader.dataset[2], to_undirected=True)\n",
    "nx.draw_networkx(G, pos=pos0[0], with_labels=True)\n",
    "\n",
    "pos0[1]\n"
   ]
  },
  {
   "cell_type": "code",
   "execution_count": null,
   "metadata": {
    "id": "nMsFnm-51Q1i"
   },
   "outputs": [],
   "source": [
    "\n",
    "#data = None\n",
    "#accel_data = None\n",
    "\n",
    "#data = onp.load(\"data_n{0}.npy\".format(n))\n",
    "#accel_data = onp.load(\"accel_data_n{0}.npy\".format(n))\n",
    "\n",
    "X = torch.from_numpy(np.concatenate([data[:, i] for i in range(0, data.shape[1], 5)]))\n",
    "y = torch.from_numpy(np.concatenate([accel_data[:, i] for i in range(0, data.shape[1], 5)]))\n",
    "\n",
    "X_train, X_test, y_train, y_test = train_test_split(X, y, shuffle=False)\n",
    "\n",
    "\n",
    "# L1 regularization\n",
    "\n",
    "aggr = 'add'\n",
    "hidden = 300\n",
    "\n",
    "test = '_l1_'\n",
    "\n",
    "\n",
    "#This test applies an explicit bottleneck:\n",
    "\n",
    "msg_dim = 100\n",
    "n_f = data.shape[3]\n",
    "\n",
    "\n",
    "# Custom data loader\n",
    "\n",
    "edge_index = get_edge_index(n, sim)\n",
    "\n",
    "\n",
    "# Initiate the model\n",
    "\n",
    "if test == '_kl_':\n",
    "    ogn = varOGN(n_f, msg_dim, dim, dt=0.1, hidden=hidden, edge_index=get_edge_index(n, sim), aggr=aggr).to(device)\n",
    "else:\n",
    "    ogn = OGN(n_f, msg_dim, dim, dt=0.1, hidden=hidden, edge_index=get_edge_index(n, sim), aggr=aggr).to(device)\n",
    "\n",
    "messages_over_time = []\n",
    "ogn = ogn.to(device)\n",
    "\n",
    "\n",
    "# Test the model\n",
    "_q = Data(\n",
    "    x=X_train[0].to(device),\n",
    "    edge_index=edge_index.to(device),\n",
    "    y=y_train[0].to(device))\n",
    "ogn(_q.x, _q.edge_index), ogn.just_derivative(_q).shape, _q.y.shape, ogn.loss(_q), \n",
    "\n",
    "\n",
    "\n",
    "\n",
    "\n",
    "\n",
    "## Set up training\n",
    "\n",
    "# Organize into data loader:\n",
    "\n",
    "batch = int(64 * (4 / n)**2)\n",
    "trainloader = DataLoader(\n",
    "    [Data(\n",
    "        Variable(X_train[i]),\n",
    "        edge_index=edge_index,\n",
    "        y=Variable(y_train[i])) for i in range(len(y_train))],\n",
    "    batch_size=batch,\n",
    "    shuffle=True\n",
    ")\n",
    "\n",
    "testloader = DataLoader(\n",
    "    [Data(\n",
    "        X_test[i],\n",
    "        edge_index=edge_index,\n",
    "        y=y_test[i]) for i in range(len(y_test))],\n",
    "    batch_size=1024,\n",
    "    shuffle=True\n",
    ")\n",
    "\n",
    "# We'll use OneCycleLR for fast training:\n",
    "\n",
    "\n",
    "\n",
    "\n",
    "\n",
    "\n",
    "\n",
    "\n",
    "# Set up optimizer and training parameters: Use 200 epochs for full version; can use fewer for test.\n",
    "init_lr = 1e-3\n",
    "\n",
    "opt = torch.optim.Adam(ogn.parameters(), lr=init_lr, weight_decay=1e-8)\n",
    "\n",
    "# total_epochs = 200\n",
    "total_epochs = 5\n",
    "epoch = 0\n",
    "\n",
    "\n",
    "batch_per_epoch = int(1000*10 / (batch/32.0))\n",
    "\n",
    "sched = OneCycleLR(opt, max_lr=init_lr,\n",
    "                  steps_per_epoch=batch_per_epoch,#len(trainloader),\n",
    "                  epochs=total_epochs, final_div_factor=1e5)\n",
    "\n",
    "\n",
    "\n",
    "\n",
    "\n",
    "\n",
    "# Organize the recording of messages over time This is for fitting the forces, and extracting laws:\n",
    "\n",
    "test_idxes = onp.random.randint(0, len(X_test), 1000)\n",
    "\n",
    "#Record messages over test dataset here:\n",
    "newtestloader = DataLoader(\n",
    "    [Data(\n",
    "        X_test[i],\n",
    "        edge_index=edge_index,\n",
    "        y=y_test[i]) for i in test_idxes],\n",
    "    batch_size=len(X_test),\n",
    "    shuffle=False\n",
    ")\n",
    "\n",
    "\n",
    "\n",
    "### Train the model:\n",
    "# Training loop\n",
    "recorded_models = []\n",
    "\n",
    "start_time = time.time()\n",
    "for epoch in tqdm(range(epoch, total_epochs)):\n",
    "    ogn.to(device)\n",
    "    total_loss = 0.0\n",
    "    i = 0\n",
    "    num_items = 0\n",
    "    while i < batch_per_epoch:\n",
    "        for ginput in trainloader:\n",
    "            if i >= batch_per_epoch:\n",
    "                break\n",
    "            opt.zero_grad()\n",
    "            ginput.x = ginput.x.to(device)\n",
    "            ginput.y = ginput.y.to(device)\n",
    "            ginput.edge_index = ginput.edge_index.to(device)\n",
    "            ginput.batch = ginput.batch.to(device)\n",
    "            if test in ['_l1_', '_kl_']:\n",
    "                loss, reg = new_loss(ogn, ginput, square=False)\n",
    "                ((loss + reg)/int(ginput.batch[-1]+1)).backward()\n",
    "            else:\n",
    "                loss = ogn.loss(ginput, square=False)\n",
    "                (loss/int(ginput.batch[-1]+1)).backward()\n",
    "            opt.step()\n",
    "            sched.step()\n",
    "\n",
    "            total_loss += loss.item()\n",
    "            i += 1\n",
    "            num_items += int(ginput.batch[-1]+1)\n",
    "\n",
    "    cur_loss = total_loss/num_items\n",
    "    print(cur_loss)\n",
    "    cur_msgs = get_messages(ogn)\n",
    "    cur_msgs['epoch'] = epoch\n",
    "    cur_msgs['loss'] = cur_loss\n",
    "    messages_over_time.append(cur_msgs)\n",
    "    \n",
    "    ogn.cpu()\n",
    "\n",
    "    recorded_models.append(ogn.state_dict())"
   ]
  },
  {
   "cell_type": "code",
   "execution_count": null,
   "metadata": {
    "colab": {
     "base_uri": "https://localhost:8080/"
    },
    "executionInfo": {
     "elapsed": 522,
     "status": "ok",
     "timestamp": 1614604599124,
     "user": {
      "displayName": "C. MIGUEL BARRIUSO GUTIERREZ",
      "photoUrl": "",
      "userId": "09446091346100152639"
     },
     "user_tz": -60
    },
    "id": "HyrwH_kY7MPd",
    "outputId": "5c662560-abd5-416d-94c6-ce1481cf5cf4"
   },
   "outputs": [
    {
     "data": {
      "text/plain": [
       "[Data(edge_index=[2, 380], x=[20, 6], y=[20, 2]),\n",
       " Data(edge_index=[2, 380], x=[20, 6], y=[20, 2]),\n",
       " Data(edge_index=[2, 380], x=[20, 6], y=[20, 2]),\n",
       " Data(edge_index=[2, 380], x=[20, 6], y=[20, 2]),\n",
       " Data(edge_index=[2, 380], x=[20, 6], y=[20, 2]),\n",
       " Data(edge_index=[2, 380], x=[20, 6], y=[20, 2]),\n",
       " Data(edge_index=[2, 380], x=[20, 6], y=[20, 2]),\n",
       " Data(edge_index=[2, 380], x=[20, 6], y=[20, 2]),\n",
       " Data(edge_index=[2, 380], x=[20, 6], y=[20, 2]),\n",
       " Data(edge_index=[2, 380], x=[20, 6], y=[20, 2]),\n",
       " Data(edge_index=[2, 380], x=[20, 6], y=[20, 2]),\n",
       " Data(edge_index=[2, 380], x=[20, 6], y=[20, 2]),\n",
       " Data(edge_index=[2, 380], x=[20, 6], y=[20, 2]),\n",
       " Data(edge_index=[2, 380], x=[20, 6], y=[20, 2]),\n",
       " Data(edge_index=[2, 380], x=[20, 6], y=[20, 2])]"
      ]
     },
     "execution_count": 212,
     "metadata": {
      "tags": []
     },
     "output_type": "execute_result"
    }
   ],
   "source": [
    "trainloader.dataset"
   ]
  },
  {
   "cell_type": "code",
   "execution_count": null,
   "metadata": {
    "id": "oxLAAAChCD4v"
   },
   "outputs": [],
   "source": []
  },
  {
   "cell_type": "markdown",
   "metadata": {
    "id": "MKfp81KqCJ3N"
   },
   "source": [
    "# **Scaling**"
   ]
  },
  {
   "cell_type": "code",
   "execution_count": null,
   "metadata": {
    "colab": {
     "base_uri": "https://localhost:8080/"
    },
    "executionInfo": {
     "elapsed": 61019,
     "status": "ok",
     "timestamp": 1613382408126,
     "user": {
      "displayName": "C. MIGUEL BARRIUSO GUTIERREZ",
      "photoUrl": "",
      "userId": "09446091346100152639"
     },
     "user_tz": -60
    },
    "id": "hindvZu5qara",
    "outputId": "b51f22e1-7bf1-4d14-a107-be42d59934e4"
   },
   "outputs": [
    {
     "name": "stdout",
     "output_type": "stream",
     "text": [
      "Running on spring_n=2_dim=2_nt=100_dt=0.01\n",
      "0\n",
      "Running on spring_n=3_dim=2_nt=100_dt=0.01\n",
      "1\n",
      "Running on spring_n=4_dim=2_nt=100_dt=0.01\n",
      "2\n",
      "Running on spring_n=5_dim=2_nt=100_dt=0.01\n",
      "3\n",
      "Running on spring_n=6_dim=2_nt=100_dt=0.01\n",
      "4\n",
      "Running on spring_n=7_dim=2_nt=100_dt=0.01\n",
      "5\n",
      "Running on spring_n=8_dim=2_nt=100_dt=0.01\n",
      "6\n",
      "Running on spring_n=9_dim=2_nt=100_dt=0.01\n",
      "7\n",
      "Running on spring_n=10_dim=2_nt=100_dt=0.01\n",
      "8\n"
     ]
    }
   ],
   "source": [
    "# Number of simulations to run (it's fast, don't worry):\n",
    "ns = 100\n",
    "\n",
    "# Potential (see below for options)\n",
    "sim = 'spring'\n",
    "\n",
    "# Number of nodes\n",
    "# n = 2\n",
    "\n",
    "# Dimension\n",
    "dim = 2\n",
    "\n",
    "# Number of time steps\n",
    "nt = 100\n",
    "\n",
    "# Time step\n",
    "\n",
    "dt = 0.01\n",
    "\n",
    "#Standard simulation sets:\n",
    "n_set = [4, 8]\n",
    "sim_sets = [\n",
    "{'sim': 'r1', 'dt': [5e-3], 'nt': [1000], 'n': n_set, 'dim': [2, 3]},\n",
    "{'sim': 'r2', 'dt': [1e-3], 'nt': [1000], 'n': n_set, 'dim': [2, 3]},\n",
    "{'sim': 'spring', 'dt': [1e-2], 'nt': [1000], 'n': n_set, 'dim': [2, 3]},\n",
    "{'sim': 'string', 'dt': [1e-2], 'nt': [1000], 'n': [30], 'dim': [2]},\n",
    "{'sim': 'charge', 'dt': [1e-3], 'nt': [1000], 'n': n_set, 'dim': [2, 3]},\n",
    "{'sim': 'superposition', 'dt': [1e-3], 'nt': [1000], 'n': n_set, 'dim': [2, 3]},\n",
    "{'sim': 'damped', 'dt': [2e-2], 'nt': [1000], 'n': n_set, 'dim': [2, 3]},\n",
    "{'sim': 'discontinuous', 'dt': [1e-2], 'nt': [1000], 'n': n_set, 'dim': [2, 3]},\n",
    "]\n",
    "\n",
    "\n",
    "#Select the hand-tuned dt value for a smooth simulation\n",
    "# (since scales are different in each potential):\n",
    "# dt = [ss['dt'][0] for ss in sim_sets if ss['sim'] == sim][0]\n",
    "\n",
    "for i in range(0,9):\n",
    "\n",
    "  n=i+2\n",
    "\n",
    "  title = '{}_n={}_dim={}_nt={}_dt={}'.format(sim, n, dim, nt, dt)\n",
    "  print('Running on', title)\n",
    "\n",
    "\n",
    "  # ??? Why nt//2\n",
    "  from simulate import SimulationDataset\n",
    "  s = SimulationDataset(sim, n=n, dim=dim, nt=nt//2, dt=dt) \n",
    "\n",
    "  # Update this to your own dataset, or regenerate:\n",
    "  base_str = './'\n",
    "  data_str = title\n",
    "  s.simulate(ns)\n",
    "\n",
    "  # data has [simulation ID, time, particle ID, [posx, posy, velx, vely, charge, mass]]\n",
    "  data = s.data\n",
    "  accel_data = s.get_acceleration()\n",
    "  \n",
    "  onp.save(\"data_n{0}.npy\".format(n), data)\n",
    "  onp.save(\"accel_data_n{0}.npy\".format(n), accel_data)\n",
    "\n",
    "  print(i)\n",
    "\n",
    "\n",
    "\n",
    "\n",
    "\n"
   ]
  },
  {
   "cell_type": "code",
   "execution_count": null,
   "metadata": {
    "colab": {
     "base_uri": "https://localhost:8080/"
    },
    "executionInfo": {
     "elapsed": 4009071,
     "status": "ok",
     "timestamp": 1613387238507,
     "user": {
      "displayName": "C. MIGUEL BARRIUSO GUTIERREZ",
      "photoUrl": "",
      "userId": "09446091346100152639"
     },
     "user_tz": -60
    },
    "id": "3O9UE-7wG3T5",
    "outputId": "fec40286-d231-4a22-fb59-536fe19f2c53"
   },
   "outputs": [
    {
     "name": "stderr",
     "output_type": "stream",
     "text": [
      " 20%|██        | 1/5 [00:19<01:19, 19.95s/it]"
     ]
    },
    {
     "name": "stdout",
     "output_type": "stream",
     "text": [
      "4.600963364413056\n"
     ]
    },
    {
     "name": "stderr",
     "output_type": "stream",
     "text": [
      " 40%|████      | 2/5 [00:39<00:59, 19.95s/it]"
     ]
    },
    {
     "name": "stdout",
     "output_type": "stream",
     "text": [
      "1.877331903130701\n"
     ]
    },
    {
     "name": "stderr",
     "output_type": "stream",
     "text": [
      " 60%|██████    | 3/5 [01:00<00:40, 20.12s/it]"
     ]
    },
    {
     "name": "stdout",
     "output_type": "stream",
     "text": [
      "0.6428045418915289\n"
     ]
    },
    {
     "name": "stderr",
     "output_type": "stream",
     "text": [
      " 80%|████████  | 4/5 [01:20<00:20, 20.15s/it]"
     ]
    },
    {
     "name": "stdout",
     "output_type": "stream",
     "text": [
      "0.26223884994393365\n"
     ]
    },
    {
     "name": "stderr",
     "output_type": "stream",
     "text": [
      "100%|██████████| 5/5 [01:40<00:00, 20.13s/it]\n",
      "  0%|          | 0/5 [00:00<?, ?it/s]"
     ]
    },
    {
     "name": "stdout",
     "output_type": "stream",
     "text": [
      "0.09141844771642214\n"
     ]
    },
    {
     "name": "stderr",
     "output_type": "stream",
     "text": [
      " 20%|██        | 1/5 [00:28<01:52, 28.25s/it]"
     ]
    },
    {
     "name": "stdout",
     "output_type": "stream",
     "text": [
      "7.307294647658556\n"
     ]
    },
    {
     "name": "stderr",
     "output_type": "stream",
     "text": [
      " 40%|████      | 2/5 [00:56<01:25, 28.34s/it]"
     ]
    },
    {
     "name": "stdout",
     "output_type": "stream",
     "text": [
      "2.6218347988990285\n"
     ]
    },
    {
     "name": "stderr",
     "output_type": "stream",
     "text": [
      " 60%|██████    | 3/5 [01:25<00:56, 28.33s/it]"
     ]
    },
    {
     "name": "stdout",
     "output_type": "stream",
     "text": [
      "1.0893115162791656\n"
     ]
    },
    {
     "name": "stderr",
     "output_type": "stream",
     "text": [
      " 80%|████████  | 4/5 [01:53<00:28, 28.34s/it]"
     ]
    },
    {
     "name": "stdout",
     "output_type": "stream",
     "text": [
      "0.453657749578787\n"
     ]
    },
    {
     "name": "stderr",
     "output_type": "stream",
     "text": [
      "100%|██████████| 5/5 [02:21<00:00, 28.37s/it]\n",
      "  0%|          | 0/5 [00:00<?, ?it/s]"
     ]
    },
    {
     "name": "stdout",
     "output_type": "stream",
     "text": [
      "0.11213621846434205\n"
     ]
    },
    {
     "name": "stderr",
     "output_type": "stream",
     "text": [
      " 20%|██        | 1/5 [00:40<02:42, 40.64s/it]"
     ]
    },
    {
     "name": "stdout",
     "output_type": "stream",
     "text": [
      "12.672796658651276\n"
     ]
    },
    {
     "name": "stderr",
     "output_type": "stream",
     "text": [
      " 40%|████      | 2/5 [01:21<02:02, 40.69s/it]"
     ]
    },
    {
     "name": "stdout",
     "output_type": "stream",
     "text": [
      "4.449980289348198\n"
     ]
    },
    {
     "name": "stderr",
     "output_type": "stream",
     "text": [
      " 60%|██████    | 3/5 [02:01<01:21, 40.61s/it]"
     ]
    },
    {
     "name": "stdout",
     "output_type": "stream",
     "text": [
      "1.776701557924336\n"
     ]
    },
    {
     "name": "stderr",
     "output_type": "stream",
     "text": [
      " 80%|████████  | 4/5 [02:42<00:40, 40.64s/it]"
     ]
    },
    {
     "name": "stdout",
     "output_type": "stream",
     "text": [
      "0.7286214214928346\n"
     ]
    },
    {
     "name": "stderr",
     "output_type": "stream",
     "text": [
      "100%|██████████| 5/5 [03:23<00:00, 40.63s/it]\n",
      "  0%|          | 0/5 [00:00<?, ?it/s]"
     ]
    },
    {
     "name": "stdout",
     "output_type": "stream",
     "text": [
      "0.12361844129791358\n",
      "16.251903555703446\n"
     ]
    },
    {
     "name": "stderr",
     "output_type": "stream",
     "text": [
      " 20%|██        | 1/5 [00:57<03:50, 57.63s/it]"
     ]
    },
    {
     "name": "stdout",
     "output_type": "stream",
     "text": [
      "5.240659064199258\n"
     ]
    },
    {
     "name": "stderr",
     "output_type": "stream",
     "text": [
      " 40%|████      | 2/5 [01:54<02:52, 57.54s/it]"
     ]
    },
    {
     "name": "stdout",
     "output_type": "stream",
     "text": [
      "2.2839332781877184\n"
     ]
    },
    {
     "name": "stderr",
     "output_type": "stream",
     "text": [
      " 60%|██████    | 3/5 [02:52<01:55, 57.60s/it]"
     ]
    },
    {
     "name": "stdout",
     "output_type": "stream",
     "text": [
      "0.9497137830581986\n"
     ]
    },
    {
     "name": "stderr",
     "output_type": "stream",
     "text": [
      " 80%|████████  | 4/5 [03:50<00:57, 57.57s/it]"
     ]
    },
    {
     "name": "stdout",
     "output_type": "stream",
     "text": [
      "0.1588989896591905\n"
     ]
    },
    {
     "name": "stderr",
     "output_type": "stream",
     "text": [
      "100%|██████████| 5/5 [04:47<00:00, 57.60s/it]\n",
      "  0%|          | 0/5 [00:00<?, ?it/s]"
     ]
    },
    {
     "name": "stdout",
     "output_type": "stream",
     "text": [
      "17.224450823080403\n"
     ]
    },
    {
     "name": "stderr",
     "output_type": "stream",
     "text": [
      " 20%|██        | 1/5 [01:16<05:05, 76.37s/it]"
     ]
    },
    {
     "name": "stdout",
     "output_type": "stream",
     "text": [
      "5.3063084395840585\n"
     ]
    },
    {
     "name": "stderr",
     "output_type": "stream",
     "text": [
      " 40%|████      | 2/5 [02:32<03:48, 76.29s/it]"
     ]
    },
    {
     "name": "stdout",
     "output_type": "stream",
     "text": [
      "2.52274660278457\n"
     ]
    },
    {
     "name": "stderr",
     "output_type": "stream",
     "text": [
      " 60%|██████    | 3/5 [03:48<02:32, 76.27s/it]"
     ]
    },
    {
     "name": "stdout",
     "output_type": "stream",
     "text": [
      "1.0530189221042432\n"
     ]
    },
    {
     "name": "stderr",
     "output_type": "stream",
     "text": [
      " 80%|████████  | 4/5 [05:04<01:16, 76.27s/it]"
     ]
    },
    {
     "name": "stdout",
     "output_type": "stream",
     "text": [
      "0.1720548631158216\n"
     ]
    },
    {
     "name": "stderr",
     "output_type": "stream",
     "text": [
      "100%|██████████| 5/5 [06:21<00:00, 76.29s/it]\n",
      "  0%|          | 0/5 [00:00<?, ?it/s]"
     ]
    },
    {
     "name": "stdout",
     "output_type": "stream",
     "text": [
      "28.807488605300314\n"
     ]
    },
    {
     "name": "stderr",
     "output_type": "stream",
     "text": [
      " 20%|██        | 1/5 [01:41<06:45, 101.34s/it]"
     ]
    },
    {
     "name": "stdout",
     "output_type": "stream",
     "text": [
      "8.838417829123793\n"
     ]
    },
    {
     "name": "stderr",
     "output_type": "stream",
     "text": [
      " 40%|████      | 2/5 [03:22<05:03, 101.33s/it]"
     ]
    },
    {
     "name": "stdout",
     "output_type": "stream",
     "text": [
      "4.191259093214997\n"
     ]
    },
    {
     "name": "stderr",
     "output_type": "stream",
     "text": [
      " 60%|██████    | 3/5 [05:04<03:22, 101.39s/it]"
     ]
    },
    {
     "name": "stdout",
     "output_type": "stream",
     "text": [
      "1.788855936765905\n"
     ]
    },
    {
     "name": "stderr",
     "output_type": "stream",
     "text": [
      " 80%|████████  | 4/5 [06:45<01:41, 101.39s/it]"
     ]
    },
    {
     "name": "stdout",
     "output_type": "stream",
     "text": [
      "0.2935164096377786\n"
     ]
    },
    {
     "name": "stderr",
     "output_type": "stream",
     "text": [
      "100%|██████████| 5/5 [08:26<00:00, 101.35s/it]\n",
      "  0%|          | 0/5 [00:00<?, ?it/s]"
     ]
    },
    {
     "name": "stdout",
     "output_type": "stream",
     "text": [
      "30.42405432396168\n"
     ]
    },
    {
     "name": "stderr",
     "output_type": "stream",
     "text": [
      " 20%|██        | 1/5 [02:03<08:12, 123.10s/it]"
     ]
    },
    {
     "name": "stdout",
     "output_type": "stream",
     "text": [
      "9.306152364918193\n"
     ]
    },
    {
     "name": "stderr",
     "output_type": "stream",
     "text": [
      " 40%|████      | 2/5 [04:06<06:09, 123.18s/it]"
     ]
    },
    {
     "name": "stdout",
     "output_type": "stream",
     "text": [
      "4.636468843391056\n"
     ]
    },
    {
     "name": "stderr",
     "output_type": "stream",
     "text": [
      " 60%|██████    | 3/5 [06:09<04:06, 123.10s/it]"
     ]
    },
    {
     "name": "stdout",
     "output_type": "stream",
     "text": [
      "1.9265303448242732\n"
     ]
    },
    {
     "name": "stderr",
     "output_type": "stream",
     "text": [
      " 80%|████████  | 4/5 [08:12<02:03, 123.20s/it]"
     ]
    },
    {
     "name": "stdout",
     "output_type": "stream",
     "text": [
      "0.31845872095899114\n"
     ]
    },
    {
     "name": "stderr",
     "output_type": "stream",
     "text": [
      "100%|██████████| 5/5 [10:16<00:00, 123.22s/it]\n",
      "  0%|          | 0/5 [00:00<?, ?it/s]"
     ]
    },
    {
     "name": "stdout",
     "output_type": "stream",
     "text": [
      "42.08324425117463\n"
     ]
    },
    {
     "name": "stderr",
     "output_type": "stream",
     "text": [
      " 20%|██        | 1/5 [02:40<10:41, 160.35s/it]"
     ]
    },
    {
     "name": "stdout",
     "output_type": "stream",
     "text": [
      "14.066581405491076\n"
     ]
    },
    {
     "name": "stderr",
     "output_type": "stream",
     "text": [
      " 40%|████      | 2/5 [05:20<08:00, 160.23s/it]"
     ]
    },
    {
     "name": "stdout",
     "output_type": "stream",
     "text": [
      "6.962661142905068\n"
     ]
    },
    {
     "name": "stderr",
     "output_type": "stream",
     "text": [
      " 60%|██████    | 3/5 [08:01<05:20, 160.49s/it]"
     ]
    },
    {
     "name": "stdout",
     "output_type": "stream",
     "text": [
      "2.957296612049027\n"
     ]
    },
    {
     "name": "stderr",
     "output_type": "stream",
     "text": [
      " 80%|████████  | 4/5 [10:44<02:41, 161.16s/it]"
     ]
    },
    {
     "name": "stdout",
     "output_type": "stream",
     "text": [
      "0.5120104143452031\n"
     ]
    },
    {
     "name": "stderr",
     "output_type": "stream",
     "text": [
      "100%|██████████| 5/5 [13:26<00:00, 161.33s/it]\n",
      "  0%|          | 0/5 [00:00<?, ?it/s]"
     ]
    },
    {
     "name": "stdout",
     "output_type": "stream",
     "text": [
      "53.06150375523567\n"
     ]
    },
    {
     "name": "stderr",
     "output_type": "stream",
     "text": [
      " 20%|██        | 1/5 [03:11<12:46, 191.70s/it]"
     ]
    },
    {
     "name": "stdout",
     "output_type": "stream",
     "text": [
      "17.572723817789555\n"
     ]
    },
    {
     "name": "stderr",
     "output_type": "stream",
     "text": [
      " 40%|████      | 2/5 [06:23<09:35, 191.79s/it]"
     ]
    },
    {
     "name": "stdout",
     "output_type": "stream",
     "text": [
      "9.052033546638489\n"
     ]
    },
    {
     "name": "stderr",
     "output_type": "stream",
     "text": [
      " 60%|██████    | 3/5 [09:36<06:24, 192.16s/it]"
     ]
    },
    {
     "name": "stdout",
     "output_type": "stream",
     "text": [
      "3.867786881995201\n"
     ]
    },
    {
     "name": "stderr",
     "output_type": "stream",
     "text": [
      " 80%|████████  | 4/5 [12:49<03:12, 192.38s/it]"
     ]
    },
    {
     "name": "stdout",
     "output_type": "stream",
     "text": [
      "0.6967016122542322\n"
     ]
    },
    {
     "name": "stderr",
     "output_type": "stream",
     "text": [
      "100%|██████████| 5/5 [16:03<00:00, 192.69s/it]\n"
     ]
    }
   ],
   "source": [
    "curloss=onp.zeros(9)\n",
    "execTime=onp.zeros(9)\n",
    "\n",
    "for ii in range(0,9):\n",
    "\n",
    "  n=ii+2\n",
    "  \n",
    "  data = None\n",
    "  accel_data = None\n",
    "\n",
    "  data = onp.load(\"data_n{0}.npy\".format(n))\n",
    "  accel_data = onp.load(\"accel_data_n{0}.npy\".format(n))\n",
    "\n",
    "  X = torch.from_numpy(np.concatenate([data[:, i] for i in range(0, data.shape[1], 5)]))\n",
    "  y = torch.from_numpy(np.concatenate([accel_data[:, i] for i in range(0, data.shape[1], 5)]))\n",
    "\n",
    "  X_train, X_test, y_train, y_test = train_test_split(X, y, shuffle=False)\n",
    "\n",
    "\n",
    "  # L1 regularization\n",
    "\n",
    "  aggr = 'add'\n",
    "  hidden = 300\n",
    "\n",
    "  test = '_l1_'\n",
    "\n",
    "\n",
    "  #This test applies an explicit bottleneck:\n",
    "\n",
    "  msg_dim = 100\n",
    "  n_f = data.shape[3]\n",
    "\n",
    "\n",
    "  # Custom data loader\n",
    "\n",
    "  edge_index = get_edge_index(n, sim)\n",
    "\n",
    "\n",
    "  # Initiate the model\n",
    "\n",
    "  if test == '_kl_':\n",
    "      ogn = varOGN(n_f, msg_dim, dim, dt=0.1, hidden=hidden, edge_index=get_edge_index(n, sim), aggr=aggr).to(device)\n",
    "  else:\n",
    "      ogn = OGN(n_f, msg_dim, dim, dt=0.1, hidden=hidden, edge_index=get_edge_index(n, sim), aggr=aggr).to(device)\n",
    "\n",
    "  messages_over_time = []\n",
    "  ogn = ogn.to(device)\n",
    "\n",
    "\n",
    "  # Test the model\n",
    "  _q = Data(\n",
    "      x=X_train[0].to(device),\n",
    "      edge_index=edge_index.to(device),\n",
    "      y=y_train[0].to(device))\n",
    "  ogn(_q.x, _q.edge_index), ogn.just_derivative(_q).shape, _q.y.shape, ogn.loss(_q), \n",
    "\n",
    "\n",
    "\n",
    "\n",
    "\n",
    "\n",
    "  ## Set up training\n",
    "\n",
    "  # Organize into data loader:\n",
    "\n",
    "  batch = int(64 * (4 / n)**2)\n",
    "  trainloader = DataLoader(\n",
    "      [Data(\n",
    "          Variable(X_train[i]),\n",
    "          edge_index=edge_index,\n",
    "          y=Variable(y_train[i])) for i in range(len(y_train))],\n",
    "      batch_size=batch,\n",
    "      shuffle=True\n",
    "  )\n",
    "\n",
    "  testloader = DataLoader(\n",
    "      [Data(\n",
    "          X_test[i],\n",
    "          edge_index=edge_index,\n",
    "          y=y_test[i]) for i in range(len(y_test))],\n",
    "      batch_size=1024,\n",
    "      shuffle=True\n",
    "  )\n",
    "\n",
    "  # We'll use OneCycleLR for fast training:\n",
    "\n",
    "\n",
    "\n",
    "\n",
    "\n",
    "\n",
    "\n",
    "\n",
    "  # Set up optimizer and training parameters: Use 200 epochs for full version; can use fewer for test.\n",
    "  init_lr = 1e-3\n",
    "\n",
    "  opt = torch.optim.Adam(ogn.parameters(), lr=init_lr, weight_decay=1e-8)\n",
    "\n",
    "  # total_epochs = 200\n",
    "  total_epochs = 5\n",
    "  epoch = 0\n",
    "\n",
    "\n",
    "  batch_per_epoch = int(1000*10 / (batch/32.0))\n",
    "\n",
    "  sched = OneCycleLR(opt, max_lr=init_lr,\n",
    "                    steps_per_epoch=batch_per_epoch,#len(trainloader),\n",
    "                    epochs=total_epochs, final_div_factor=1e5)\n",
    "\n",
    "\n",
    "\n",
    "\n",
    "\n",
    "\n",
    "  # Organize the recording of messages over time This is for fitting the forces, and extracting laws:\n",
    "\n",
    "  test_idxes = onp.random.randint(0, len(X_test), 1000)\n",
    "\n",
    "  #Record messages over test dataset here:\n",
    "  newtestloader = DataLoader(\n",
    "      [Data(\n",
    "          X_test[i],\n",
    "          edge_index=edge_index,\n",
    "          y=y_test[i]) for i in test_idxes],\n",
    "      batch_size=len(X_test),\n",
    "      shuffle=False\n",
    "  )\n",
    "\n",
    "\n",
    "\n",
    "  ### Train the model:\n",
    "  # Training loop\n",
    "  recorded_models = []\n",
    "\n",
    "  start_time = time.time()\n",
    "  for epoch in tqdm(range(epoch, total_epochs)):\n",
    "      ogn.to(device)\n",
    "      total_loss = 0.0\n",
    "      i = 0\n",
    "      num_items = 0\n",
    "      while i < batch_per_epoch:\n",
    "          for ginput in trainloader:\n",
    "              if i >= batch_per_epoch:\n",
    "                  break\n",
    "              opt.zero_grad()\n",
    "              ginput.x = ginput.x.to(device)\n",
    "              ginput.y = ginput.y.to(device)\n",
    "              ginput.edge_index = ginput.edge_index.to(device)\n",
    "              ginput.batch = ginput.batch.to(device)\n",
    "              if test in ['_l1_', '_kl_']:\n",
    "                  loss, reg = new_loss(ogn, ginput, square=False)\n",
    "                  ((loss + reg)/int(ginput.batch[-1]+1)).backward()\n",
    "              else:\n",
    "                  loss = ogn.loss(ginput, square=False)\n",
    "                  (loss/int(ginput.batch[-1]+1)).backward()\n",
    "              opt.step()\n",
    "              sched.step()\n",
    "\n",
    "              total_loss += loss.item()\n",
    "              i += 1\n",
    "              num_items += int(ginput.batch[-1]+1)\n",
    "\n",
    "      cur_loss = total_loss/num_items\n",
    "      print(cur_loss)\n",
    "      cur_msgs = get_messages(ogn)\n",
    "      cur_msgs['epoch'] = epoch\n",
    "      cur_msgs['loss'] = cur_loss\n",
    "      messages_over_time.append(cur_msgs)\n",
    "      \n",
    "      ogn.cpu()\n",
    "\n",
    "      recorded_models.append(ogn.state_dict())\n",
    "      \n",
    "  execTime[ii] = time.time() - start_time\n",
    "  curloss[ii] = cur_loss\n",
    "\n",
    "\n",
    "\n"
   ]
  },
  {
   "cell_type": "code",
   "execution_count": null,
   "metadata": {
    "id": "IdvbvqNsewqr"
   },
   "outputs": [],
   "source": [
    "nParts=[2,3,4,5,6,7,8,9,10]"
   ]
  },
  {
   "cell_type": "code",
   "execution_count": null,
   "metadata": {
    "id": "L0Lfsg9NaGg-"
   },
   "outputs": [],
   "source": [
    "onp.save(\"trainingTimeVSnParticles.npy\", execTime)\n",
    "onp.save(\"lossVSnParticles.ny\", curloss)\n"
   ]
  },
  {
   "cell_type": "code",
   "execution_count": null,
   "metadata": {
    "colab": {
     "base_uri": "https://localhost:8080/",
     "height": 332
    },
    "executionInfo": {
     "elapsed": 1327,
     "status": "ok",
     "timestamp": 1613392156642,
     "user": {
      "displayName": "C. MIGUEL BARRIUSO GUTIERREZ",
      "photoUrl": "",
      "userId": "09446091346100152639"
     },
     "user_tz": -60
    },
    "id": "UQNFcWlZYAPX",
    "outputId": "c8125ab2-8e5c-4168-87dc-02d04fbdff96"
   },
   "outputs": [
    {
     "data": {
      "text/plain": [
       "Text(0, 0.5, 'Loss')"
      ]
     },
     "execution_count": 125,
     "metadata": {
      "tags": []
     },
     "output_type": "execute_result"
    },
    {
     "data": {
      "image/png": "[encoded data removed]",
      "text/plain": [
       "<Figure size 864x288 with 2 Axes>"
      ]
     },
     "metadata": {
      "needs_background": "light",
      "tags": []
     },
     "output_type": "display_data"
    }
   ],
   "source": [
    "fig, (ax1, ax2) = plt.subplots(nrows=1, ncols=2, figsize=(12,4))\n",
    "\n",
    "fig.suptitle('Nepochs = 5, Nsteps = 100, Nsims = 100', fontsize=16)\n",
    "\n",
    "ax1.plot(nParts, execTime, 'o', label='data')\n",
    "ax1.plot(nParts, 10*onp.square(nParts), '-', label='$n^2$')\n",
    "ax1.set_xscale('log')\n",
    "ax1.set_yscale('log')\n",
    "ax1.set_ylim(90,1100)\n",
    "ax1.legend()\n",
    "# ax1.grid(True)\n",
    "ax1.set_xlabel('Number of particles', fontsize=12)\n",
    "ax1.set_ylabel('Training time', fontsize=12)\n",
    "#ax1.axes.get_xaxis().set_visible(False)\n",
    "\n",
    "ax2.plot(nParts, curloss, 'o', label='data')\n",
    "ax2.plot(nParts, 0.001*onp.power(nParts,3), '-', label='$l^3$')\n",
    "ax2.set_xscale('log')\n",
    "ax2.set_yscale('log')\n",
    "ax2.set_ylim(0.08,1.1)\n",
    "ax2.legend()\n",
    "ax2.set_xlabel('Number of particles', fontsize=12)\n",
    "ax2.set_ylabel('Loss', fontsize=12)"
   ]
  },
  {
   "cell_type": "code",
   "execution_count": null,
   "metadata": {
    "id": "G9UQKVdUZ-L_"
   },
   "outputs": [],
   "source": [
    "fig.savefig('trainingTime-LossVSnParticles.png')"
   ]
  }
 ],
 "metadata": {
  "accelerator": "GPU",
  "colab": {
   "authorship_tag": "ABX9TyMd9uhhRs6w+WWU7RqefLwd",
   "collapsed_sections": [],
   "name": "GN_ABPs.ipynb",
   "provenance": [],
   "toc_visible": true
  },
  "kernelspec": {
   "display_name": "abp_inference",
   "language": "python",
   "name": "python3"
  },
  "language_info": {
   "codemirror_mode": {
    "name": "ipython",
    "version": 3
   },
   "file_extension": ".py",
   "mimetype": "text/x-python",
   "name": "python",
   "nbconvert_exporter": "python",
   "pygments_lexer": "ipython3",
   "version": "3.12.7"
  }
 },
 "nbformat": 4,
 "nbformat_minor": 4
}
