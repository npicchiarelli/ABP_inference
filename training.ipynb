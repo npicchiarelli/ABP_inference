{
 "cells": [
  {
   "cell_type": "markdown",
   "metadata": {},
   "source": [
    "# Training of PigNPi"
   ]
  },
  {
   "cell_type": "code",
   "execution_count": 46,
   "metadata": {},
   "outputs": [],
   "source": [
    "import math\n",
    "import pickle as pkl\n",
    "\n",
    "import numpy as np\n",
    "from matplotlib import pyplot as plt\n",
    "from tqdm import tqdm\n",
    "import torch\n",
    "from torch.autograd import Variable\n",
    "from torch.optim import Adam\n",
    "from torch_geometric.loader import DataLoader\n",
    "\n",
    "from model import GN_force_SiLU\n",
    "\n",
    "torch.set_default_dtype(torch.float64)"
   ]
  },
  {
   "cell_type": "code",
   "execution_count": 33,
   "metadata": {},
   "outputs": [],
   "source": [
    "with open('data.pkl', 'rb') as f:\n",
    "    simulation_data = pkl.load(f)"
   ]
  },
  {
   "cell_type": "code",
   "execution_count": 34,
   "metadata": {},
   "outputs": [],
   "source": [
    "vel = simulation_data[\"velocity\"]\n",
    "num_experiments, simulation_steps, num_nodes, dim = vel.shape"
   ]
  },
  {
   "cell_type": "code",
   "execution_count": 35,
   "metadata": {},
   "outputs": [],
   "source": [
    "# edge_list and edge_feature\n",
    "edge_list = []\n",
    "edge_feature = []\n",
    "for this_edge in simulation_data[\"edge_list\"]:\n",
    "    edge_list.append([this_edge[0], this_edge[1] ] ) # edge from i to j\n",
    "    edge_list.append([this_edge[1], this_edge[0] ] ) # edge from j to i\n",
    "edge_list = np.array(edge_list) # shape [num_edge, 2]"
   ]
  },
  {
   "cell_type": "code",
   "execution_count": 36,
   "metadata": {},
   "outputs": [],
   "source": [
    "node_drag = simulation_data[\"drag_coefficient\"]"
   ]
  },
  {
   "cell_type": "code",
   "execution_count": 37,
   "metadata": {},
   "outputs": [
    {
     "name": "stdout",
     "output_type": "stream",
     "text": [
      "(2, 1001, 10, 3)\n"
     ]
    }
   ],
   "source": [
    "node_feature = np.concatenate((simulation_data[\"position\"], node_drag), axis=-1)\n",
    "print(node_feature.shape)"
   ]
  },
  {
   "cell_type": "code",
   "execution_count": 38,
   "metadata": {},
   "outputs": [],
   "source": [
    "# for flattening first two dimensions\n",
    "node_feature_flatten = []\n",
    "vel_flatten = []\n",
    "for i in range(num_experiments):\n",
    "    for j in range(simulation_steps):\n",
    "        node_feature_flatten.append(node_feature[i, j] )\n",
    "        vel_flatten.append(vel[i,j])"
   ]
  },
  {
   "cell_type": "code",
   "execution_count": 39,
   "metadata": {},
   "outputs": [],
   "source": [
    "training_node_X = np.array(node_feature_flatten)\n",
    "training_node_Y = np.array(vel_flatten)"
   ]
  },
  {
   "cell_type": "code",
   "execution_count": 40,
   "metadata": {},
   "outputs": [
    {
     "name": "stdout",
     "output_type": "stream",
     "text": [
      "In GN_force_SiLU, n_node is : 10\n"
     ]
    }
   ],
   "source": [
    "# model configuration\n",
    "device = 'cuda' if torch.cuda.is_available() else 'cpu'\n",
    "\n",
    "aggr = 'add'\n",
    "hidden = 300\n",
    "msg_dim = dim\n",
    "\n",
    "# n_f = data.shape[3]\n",
    "n_f = 2 * dim + 2 # node position, node velocity, node charge, node mass\n",
    "model = GN_force_SiLU(n_node = num_nodes, n_f=n_f, msg_dim=msg_dim, ndim=dim, hidden=hidden, aggr=aggr).to(device)"
   ]
  },
  {
   "cell_type": "code",
   "execution_count": 41,
   "metadata": {},
   "outputs": [
    {
     "name": "stdout",
     "output_type": "stream",
     "text": [
      "edge_list shape: (2, 90)\n",
      "int64\n"
     ]
    }
   ],
   "source": [
    "edge_list = np.transpose(edge_list)\n",
    "print(\"edge_list shape: {}\".format(edge_list.shape) )\n",
    "print(edge_list.dtype)"
   ]
  },
  {
   "cell_type": "code",
   "execution_count": 47,
   "metadata": {},
   "outputs": [],
   "source": [
    "batch_size = 32\n",
    "training_example_number = len(training_node_X)\n",
    "trainloader = DataLoader(\n",
    "    [Data(\n",
    "        x = torch.from_numpy(training_node_X[i]),\n",
    "        edge_index = torch.tensor(edge_list, dtype=torch.long),\n",
    "        y = torch.from_numpy(training_node_Y[i]) )  for i in range(training_example_number ) ],\n",
    "    batch_size=batch_size,\n",
    "    shuffle=True\n",
    "    )\n"
   ]
  }
 ],
 "metadata": {
  "kernelspec": {
   "display_name": "abp_inference",
   "language": "python",
   "name": "python3"
  },
  "language_info": {
   "codemirror_mode": {
    "name": "ipython",
    "version": 3
   },
   "file_extension": ".py",
   "mimetype": "text/x-python",
   "name": "python",
   "nbconvert_exporter": "python",
   "pygments_lexer": "ipython3",
   "version": "3.12.7"
  }
 },
 "nbformat": 4,
 "nbformat_minor": 2
}
