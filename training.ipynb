{
 "cells": [
  {
   "cell_type": "markdown",
   "metadata": {},
   "source": [
    "# Training of PigNPi"
   ]
  },
  {
   "cell_type": "code",
   "execution_count": 1,
   "metadata": {},
   "outputs": [],
   "source": [
    "import math\n",
    "import pickle as pkl\n",
    "\n",
    "import numpy as np\n",
    "from matplotlib import pyplot as plt\n",
    "from tqdm import tqdm\n",
    "import torch\n",
    "from torch.autograd import Variable\n",
    "from torch.optim import Adam\n",
    "from torch.optim.lr_scheduler import ReduceLROnPlateau, OneCycleLR\n",
    "\n",
    "from torch_geometric.data import Data\n",
    "from torch_geometric.loader import DataLoader\n",
    "\n",
    "from model import GN_force_SiLU\n",
    "from dataset_prep import data_prep\n",
    "\n",
    "torch.set_default_dtype(torch.float64)"
   ]
  },
  {
   "cell_type": "code",
   "execution_count": 13,
   "metadata": {},
   "outputs": [],
   "source": [
    "from dataset_prep import data_prep\n",
    "\n",
    "folder = \"/mnt/c/Users/nikko/OneDrive/Documents/Uni/magistrale/tesi/simulations\"\n",
    "data_prep(folder, \"20241030-125950\", 1e-5,2.,\"data125950\")"
   ]
  },
  {
   "cell_type": "code",
   "execution_count": 3,
   "metadata": {},
   "outputs": [],
   "source": [
    "square_flag = False"
   ]
  },
  {
   "cell_type": "code",
   "execution_count": 4,
   "metadata": {},
   "outputs": [],
   "source": [
    "with open('data104541.pkl', 'rb') as f:\n",
    "    simulation_data = pkl.load(f)"
   ]
  },
  {
   "cell_type": "code",
   "execution_count": 29,
   "metadata": {},
   "outputs": [],
   "source": [
    "vel = simulation_data[\"velocity\"]\n",
    "num_experiments, simulation_steps, num_nodes, dim = vel.shape"
   ]
  },
  {
   "cell_type": "code",
   "execution_count": null,
   "metadata": {},
   "outputs": [],
   "source": [
    "num_experiments, simulation_steps, num_nodes, dim"
   ]
  },
  {
   "cell_type": "code",
   "execution_count": 31,
   "metadata": {},
   "outputs": [],
   "source": [
    "num_train = 2"
   ]
  },
  {
   "cell_type": "code",
   "execution_count": 32,
   "metadata": {},
   "outputs": [],
   "source": [
    "# edge_list and edge_feature\n",
    "edge_list = []\n",
    "edge_feature = []\n",
    "for this_edge in simulation_data[\"edge_list\"]:\n",
    "    edge_list.append([this_edge[0], this_edge[1] ] ) # edge from i to j\n",
    "    edge_list.append([this_edge[1], this_edge[0] ] ) # edge from j to i\n",
    "edge_list = np.array(edge_list) # shape [num_edge, 2]"
   ]
  },
  {
   "cell_type": "code",
   "execution_count": 33,
   "metadata": {},
   "outputs": [],
   "source": [
    "node_drag = simulation_data[\"drag_coefficient\"]"
   ]
  },
  {
   "cell_type": "code",
   "execution_count": null,
   "metadata": {},
   "outputs": [],
   "source": [
    "node_feature = np.concatenate((simulation_data[\"position\"], node_drag), axis=-1)\n",
    "print(node_feature.shape)"
   ]
  },
  {
   "cell_type": "code",
   "execution_count": 35,
   "metadata": {},
   "outputs": [],
   "source": [
    "# for flattening first two dimensions\n",
    "node_feature_flatten = []\n",
    "vel_flatten = []\n",
    "for i in range(num_experiments):\n",
    "    for j in range(simulation_steps):\n",
    "        node_feature_flatten.append(node_feature[i, j] )\n",
    "        vel_flatten.append(vel[i,j])"
   ]
  },
  {
   "cell_type": "code",
   "execution_count": 36,
   "metadata": {},
   "outputs": [],
   "source": [
    "training_node_X = np.array(node_feature_flatten[num_train:])\n",
    "training_node_Y = np.array(vel_flatten[num_train:])\n",
    "\n",
    "testing_node_X = np.array(node_feature_flatten[:num_train])\n",
    "testing_node_Y = np.array(vel_flatten[:num_train])"
   ]
  },
  {
   "cell_type": "code",
   "execution_count": null,
   "metadata": {},
   "outputs": [],
   "source": [
    "# model configuration\n",
    "device = 'cuda' if torch.cuda.is_available() else 'cpu'\n",
    "\n",
    "aggr = 'add'\n",
    "hidden = 300\n",
    "msg_dim = dim\n",
    "\n",
    "# n_f = data.shape[3]\n",
    "n_f = 1 * dim + 1 # node position, node drag\n",
    "model = GN_force_SiLU(n_node = num_nodes, n_f=n_f, msg_dim=msg_dim, ndim=dim, hidden=hidden, aggr=aggr).to(device)"
   ]
  },
  {
   "cell_type": "code",
   "execution_count": null,
   "metadata": {},
   "outputs": [],
   "source": [
    "edge_list = np.transpose(edge_list)\n",
    "print(\"edge_list shape: {}\".format(edge_list.shape) )\n",
    "print(edge_list.dtype)"
   ]
  },
  {
   "cell_type": "code",
   "execution_count": 39,
   "metadata": {},
   "outputs": [],
   "source": [
    "batch_size = 32\n",
    "training_example_number = len(training_node_X)\n",
    "testing_example_number = len(testing_node_X)\n",
    "\n",
    "trainloader = DataLoader(\n",
    "    [Data(\n",
    "        x = torch.from_numpy(training_node_X[i]),\n",
    "        edge_index = torch.tensor(edge_list, dtype=torch.long),\n",
    "        y = torch.from_numpy(training_node_Y[i]) )  for i in range(training_example_number ) ],\n",
    "    batch_size=batch_size,\n",
    "    shuffle=True\n",
    "    )\n",
    "\n",
    "testloader = DataLoader(\n",
    "    [Data(\n",
    "        x = torch.from_numpy(testing_node_X[i]),\n",
    "        edge_index = torch.tensor(edge_list, dtype=torch.long),\n",
    "        y = torch.from_numpy(testing_node_Y[i]) )  for i in range(testing_example_number ) ],\n",
    "    batch_size=batch_size,\n",
    "    shuffle=False\n",
    ")"
   ]
  },
  {
   "cell_type": "code",
   "execution_count": 40,
   "metadata": {},
   "outputs": [],
   "source": [
    "def cmpt_loss(input_dataloader, ogn_model):\n",
    "    total_loss = 0.0; num_items = 0\n",
    "    for ginput in input_dataloader:\n",
    "        x = ginput.x.to(device)\n",
    "        true_y = ginput.y.to(device)\n",
    "        edge_index = ginput.edge_index.to(device)\n",
    "        edge_feature = None\n",
    "        # ginput.batch = ginput.batch.to(device) # https://pytorch-geometric.readthedocs.io/en/latest/notes/introduction.html#mini-batches\n",
    "        predicted_y = ogn_model(x, edge_index, edge_feature)\n",
    "        if square_flag:\n",
    "            loss = torch.sum((true_y - predicted_y) **2 )\n",
    "        else:\n",
    "            loss = torch.sum(torch.abs(true_y - predicted_y) )\n",
    "        total_loss += loss.item()\n",
    "        num_items += int(ginput.batch.shape[-1]) # all the nodes number in this batch\n",
    "    return total_loss / num_items"
   ]
  },
  {
   "cell_type": "code",
   "execution_count": 41,
   "metadata": {},
   "outputs": [],
   "source": [
    "init_lr = 1e-2\n",
    "# init_lr = 5e-4\n",
    "\n",
    "opt = torch.optim.Adam(model.parameters(), lr=init_lr, weight_decay=1e-8)\n",
    "total_epochs = 100 # training epochs\n",
    "\n",
    "batch_per_epoch = math.ceil(training_example_number / batch_size )\n",
    "\n",
    "sched = OneCycleLR(opt, max_lr=init_lr,\n",
    "                    steps_per_epoch=batch_per_epoch,#len(trainloader),\n",
    "                    epochs=total_epochs, final_div_factor=1e5)"
   ]
  },
  {
   "cell_type": "code",
   "execution_count": 42,
   "metadata": {},
   "outputs": [],
   "source": [
    "initial_training_loss = cmpt_loss(trainloader, model)\n"
   ]
  },
  {
   "cell_type": "code",
   "execution_count": null,
   "metadata": {},
   "outputs": [],
   "source": [
    "initial_training_loss"
   ]
  },
  {
   "cell_type": "code",
   "execution_count": null,
   "metadata": {},
   "outputs": [],
   "source": [
    "training_loss_history = []\n",
    "testing_loss_history = []\n",
    "for epoch in tqdm(range(0, total_epochs)):\n",
    "# for epoch in range(3):\n",
    "\n",
    "    total_loss = 0.0\n",
    "    i = 0\n",
    "    num_items = 0\n",
    "    # the original code here can deal with the cases: 1. batch_per_epoch > len(trainloader); 2. batch_per_epoch < len(trainloader)\n",
    "    # but let's go through the whole training dataset per epoch\n",
    "    # while i < batch_per_epoch:\n",
    "    for ginput in trainloader:\n",
    "        # if i >= batch_per_epoch:\n",
    "        #     break\n",
    "        opt.zero_grad()\n",
    "        x = ginput.x.to(device)\n",
    "        true_y = ginput.y.to(device)\n",
    "        edge_index = ginput.edge_index.to(device)\n",
    "        edge_feature = None\n",
    "\n",
    "        predicted_y = model(x, edge_index, edge_feature)\n",
    "\n",
    "        if square_flag:\n",
    "            loss = torch.sum((true_y - predicted_y) **2 )\n",
    "        else:\n",
    "            loss = torch.sum(torch.abs(true_y - predicted_y) )\n",
    "\n",
    "        loss.backward()\n",
    "        opt.step()\n",
    "        sched.step()\n",
    "        total_loss += loss.item()\n",
    "        i += 1\n",
    "        num_items += int(ginput.batch.shape[-1]) # all the nodes number in this batch\n",
    "\n",
    "    training_loss = total_loss / num_items # the average on the node level\n",
    "    testing_loss = cmpt_loss(testloader, model)\n",
    "    if epoch % 5 == 0:\n",
    "        print(\"LOSS -- train: {}; test:{}\".format(training_loss, testing_loss) )\n",
    "\n",
    "    training_loss_history.append(training_loss)\n",
    "    testing_loss_history.append(testing_loss)"
   ]
  },
  {
   "cell_type": "code",
   "execution_count": null,
   "metadata": {},
   "outputs": [],
   "source": [
    "plt.figure(figsize=(10,5))\n",
    "# plt.plot(training_loss_history, label = \"training loss\")\n",
    "plt.plot(testing_loss_history, label = \"testing loss\")\n",
    "plt.legend()\n",
    "plt.xlabel(\"iterations\")\n",
    "plt.ylabel(\"Loss\")\n",
    "plt.show()"
   ]
  },
  {
   "cell_type": "code",
   "execution_count": null,
   "metadata": {},
   "outputs": [],
   "source": []
  }
 ],
 "metadata": {
  "kernelspec": {
   "display_name": "abp_inference",
   "language": "python",
   "name": "python3"
  },
  "language_info": {
   "codemirror_mode": {
    "name": "ipython",
    "version": 3
   },
   "file_extension": ".py",
   "mimetype": "text/x-python",
   "name": "python",
   "nbconvert_exporter": "python",
   "pygments_lexer": "ipython3",
   "version": "3.12.7"
  }
 },
 "nbformat": 4,
 "nbformat_minor": 2
}
